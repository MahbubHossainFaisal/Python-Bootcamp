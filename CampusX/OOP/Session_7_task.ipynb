{
  "nbformat": 4,
  "nbformat_minor": 0,
  "metadata": {
    "colab": {
      "provenance": []
    },
    "kernelspec": {
      "name": "python3",
      "display_name": "Python 3"
    },
    "language_info": {
      "name": "python"
    }
  },
  "cells": [
    {
      "cell_type": "markdown",
      "source": [
        "##`Q-1:` Rectangle Class\n",
        "1. Write a Rectangle class in Python language, allowing you to build a rectangle with length and width attributes.\n",
        "\n",
        "2. Create a Perimeter() method to calculate the perimeter of the rectangle and a Area() method to calculate the area of ​​the rectangle.\n",
        "\n",
        "3. Create a method display() that display the length, width, perimeter and area of an object created using an instantiation on rectangle class."
      ],
      "metadata": {
        "id": "FyUJ3PRAsPr4"
      }
    },
    {
      "cell_type": "markdown",
      "source": [
        "Eg.\n",
        "After making above classes and methods, on executing below code:-\n",
        "```\n",
        "my_rectangle = Rectangle(3 , 4)\n",
        "my_rectangle.display()\n",
        "```\n",
        "\n",
        "`Output:`\n",
        "```\n",
        "The length of rectangle is:  3\n",
        "The width of rectangle is:  4\n",
        "The perimeter of rectangle is:  14\n",
        "The area of rectangle is:  12\n",
        "```\n"
      ],
      "metadata": {
        "id": "GxUtOqJfssFK"
      }
    },
    {
      "cell_type": "code",
      "source": [
        "# write your code here\n",
        "class Rectangle:\n",
        "  def __init__(self,x,y):\n",
        "    self.len=x\n",
        "    self.wid=y\n",
        "    self.ar=0\n",
        "    self.pr=0\n",
        "    self.perimeter()\n",
        "    self.area()\n",
        "    self.display()\n",
        "  \n",
        "  def perimeter(self):\n",
        "    self.pr= 2*(self.len+self.wid)\n",
        "  \n",
        "\n",
        "  def area(self):\n",
        "    self.ar= self.len*self.wid\n",
        "  \n",
        "  def display(self):\n",
        "    print('The length of rectangle is:  ',self.len)\n",
        "    print('The width of rectangle is:  ',self.wid)\n",
        "    print('The perimeter of rectangle is:  ',self.pr)\n",
        "    print('The area of rectangle is:  ',self.ar)\n",
        "\n",
        "\n",
        "  \n",
        "\n",
        "obj = Rectangle(3,4)"
      ],
      "metadata": {
        "id": "92_QT-Uj6NBg",
        "colab": {
          "base_uri": "https://localhost:8080/"
        },
        "outputId": "5c23ded7-f54d-4745-d768-1cb4aae682af"
      },
      "execution_count": null,
      "outputs": [
        {
          "output_type": "stream",
          "name": "stdout",
          "text": [
            "The length of rectangle is:   3\n",
            "The width of rectangle is:   4\n",
            "The perimeter of rectangle is:   14\n",
            "The area of rectangle is:   12\n"
          ]
        }
      ]
    },
    {
      "cell_type": "markdown",
      "source": [
        "##`Q-2: Bank Class`\n",
        "\n",
        "1. Create a Python class called `BankAccount` which represents a bank account, having as attributes: `accountNumber` (numeric type), `name` (name of the account owner as string type), `balance`.\n",
        "2. Create a constructor with parameters: `accountNumber, name, balance`.\n",
        "3. Create a `Deposit()` method which manages the deposit actions.\n",
        "4. Create a `Withdrawal()` method  which manages withdrawals actions.\n",
        "5. Create an `bankFees()` method to apply the bank fees with a percentage of 5% of the balance account.\n",
        "6. Create a `display()` method to display account details.\n",
        "Give the complete code for the  BankAccount class."
      ],
      "metadata": {
        "id": "r_GxrS0Vrdom"
      }
    },
    {
      "cell_type": "markdown",
      "source": [
        "Eg.\n",
        "After making above classes and methods, on executing below code:-\n",
        "```\n",
        "newAccount = BankAccount(2178514584, \"Mandy\" , 2800)\n",
        "\n",
        "newAccount.Withdrawal(700)\n",
        "\n",
        "newAccount.Deposit(1000)\n",
        "\n",
        "newAccount.display()\n",
        "```\n",
        "\n",
        "`Output:`\n",
        "```\n",
        "Account Number :  2178514584\n",
        "Account Name :  Mandy\n",
        "Account Balance :  3100 ₹\n",
        "```"
      ],
      "metadata": {
        "id": "qvVkOUJgvTV_"
      }
    },
    {
      "cell_type": "code",
      "source": [
        "from re import A\n",
        "# write your code here\n",
        "class BankAccount:\n",
        "  def __init__(self,accNo,name,balance):\n",
        "    self.accountNumber = accNo\n",
        "    self.name = name\n",
        "    self.balance = balance\n",
        "    \n",
        "  def Deposit(self,amount):\n",
        "    self.balance += amount\n",
        "  \n",
        "  def Withdrawal(self,amount):\n",
        "    self.balance -= amount\n",
        "  \n",
        "  def display(self):\n",
        "    print('Account Number : ',self.accountNumber)\n",
        "    print('Account Name : ',self.name)\n",
        "    print('Account Balance: ',self.balance,' Bdt.')\n",
        "\n",
        "\n",
        "# Creating object\n",
        "\n",
        "newAccount = BankAccount(2178514584, \"Mandy\" , 2800)\n",
        "\n",
        "newAccount.Withdrawal(700)\n",
        "\n",
        "newAccount.Deposit(1000)\n",
        "\n",
        "newAccount.display()\n"
      ],
      "metadata": {
        "id": "fUQOmQyA6YDR",
        "colab": {
          "base_uri": "https://localhost:8080/"
        },
        "outputId": "e7584533-7b3c-444e-b5c9-8224acc55887"
      },
      "execution_count": null,
      "outputs": [
        {
          "output_type": "stream",
          "name": "stdout",
          "text": [
            "Account Number :  2178514584\n",
            "Account Name :  Mandy\n",
            "Account Balance:  3100  Bdt.\n"
          ]
        }
      ]
    },
    {
      "cell_type": "markdown",
      "source": [
        "##`Q-3:Computation class`\n",
        "\n",
        "1. Create a `Computation` class with a default constructor (without parameters) allowing to perform various calculations on integers numbers.\n",
        "2. Create a method called `Factorial()` which allows to calculate the factorial of an integer n. Integer n as parameter for this method\n",
        "\n",
        "3. Create a method called `naturalSum()` allowing to calculate the sum of the first n integers 1 + 2 + 3 + .. + n. Integer n as parameter for this method.\n",
        "\n",
        "4. Create a method called `testPrime()` in  the Calculation class to test the primality of a given integer n, n is Prime or Not? Integer n as parameter for this method.\n",
        "\n",
        "5. Create  a method called `testPrims()` allowing to test if two numbers are prime between them. Two integers are prime to one another if they have only `1` as their common divisor. Eg. 4 and 9 are prime to each other.\n",
        "\n",
        "5. Create a `tableMult()` method which creates and displays the multiplication table of a given integer. Then create an `allTablesMult()` method to display all the integer multiplication tables 1, 2, 3, ..., 9.\n",
        "\n",
        "6. Create a static `listDiv()` method that gets all the divisors of a given integer on new list called  Ldiv. Create another `listDivPrim()` method that gets all the prime divisors of a given integer."
      ],
      "metadata": {
        "id": "QovcQAZTrgGU"
      }
    },
    {
      "cell_type": "code",
      "source": [
        "# write your code here"
      ],
      "metadata": {
        "id": "YEkPH70l6Z-o"
      },
      "execution_count": null,
      "outputs": []
    },
    {
      "cell_type": "markdown",
      "source": [
        "##`Q-4`: Build flashcard using class in Python.\n",
        "\n",
        "Build a flashcard using class in python. A flashcard is a card having information on both sides, which can be used as an aid in memoization. Flashcards usually have a question on one side and an answer on the other.\n",
        "\n",
        "**Example 1:**\n",
        "\n",
        "Approach:\n",
        "\n",
        "- Create a class named FlashCard.\n",
        "- Initialize dictionary fruits using __init__() method. Here you have to define fruit name as key and it's color as value. E.g., {\"Banana\": \"yellow\", \"Strawberries\": \"pink\"}\n",
        "- Now randomly choose a pair from fruits by using _random_ module and store the key in variable _fruit_ and _value_ in variable color.\n",
        "- Now prompt the user to answer the color of the randomly chosen fruit.\n",
        "- If correct print correct else print wrong.\n",
        "\n",
        "Output:\n",
        "```bash\n",
        "welcome to fruit quiz\n",
        "What is the color of Strawberries\n",
        "pink\n",
        "Correct answer\n",
        "Enter 0, if you want to play again: 0\n",
        "What is the color of watermelon\n",
        "green\n",
        "Correct answer\n",
        "Enter 0, if you want to play again: 1\n",
        "```"
      ],
      "metadata": {
        "id": "0yn23_oEriXa"
      }
    },
    {
      "cell_type": "code",
      "source": [
        "# write your code here\n",
        "import random\n",
        "class FlashCard:\n",
        "  def __init__(self):\n",
        "    self.fruits = {\"Banana\":\"Yellow\",\"Strawberries\":\"Pink\",\"Mango\":\"Red\",\"Guava\":\"Green\"}\n",
        "    self.userInput()\n",
        "    \n",
        "\n",
        "  def userInput(self):\n",
        "    key,val = random.choice(list(self.fruits.items()))\n",
        "    self.fruit = key\n",
        "    self.val = val\n",
        "    print('Welcome to the fruit quiz')\n",
        "    self.ans = input(\"What is the color of {}\".format(self.fruit))\n",
        "    self.checkAns()\n",
        "    self.replay = input('Press 0 if you want to play again: ')\n",
        "    if self.replay == '0':\n",
        "      self.userInput()\n",
        "    else:\n",
        "      exit()\n",
        "\n",
        "  def checkAns(self):\n",
        "    if self.ans == self.val:\n",
        "      print('Correct answer')\n",
        "    else:\n",
        "      print('Wrong answer')\n",
        "\n",
        "obj = FlashCard()\n",
        "\n"
      ],
      "metadata": {
        "id": "vCrUF6VU6l6w",
        "colab": {
          "base_uri": "https://localhost:8080/"
        },
        "outputId": "db03879c-fe33-46e2-e2cd-7e912e9e251f"
      },
      "execution_count": null,
      "outputs": [
        {
          "name": "stdout",
          "output_type": "stream",
          "text": [
            "Welcome to the fruit quiz\n",
            "What is the color of MangoRed\n",
            "Correct answer\n",
            "Press 0 if you want to play again: 0\n",
            "Welcome to the fruit quiz\n",
            "What is the color of MangoYellow\n",
            "Wrong answer\n",
            "Press 0 if you want to play again: 0\n",
            "Welcome to the fruit quiz\n",
            "What is the color of GuavaGreen\n",
            "Correct answer\n",
            "Press 0 if you want to play again: 0\n",
            "Welcome to the fruit quiz\n",
            "What is the color of MangoRed\n",
            "Correct answer\n",
            "Press 0 if you want to play again: 0\n",
            "Welcome to the fruit quiz\n",
            "What is the color of Banana1\n",
            "Wrong answer\n",
            "Press 0 if you want to play again: 1\n"
          ]
        }
      ]
    },
    {
      "cell_type": "markdown",
      "source": [
        "## `Q-5:` Problem 5 based on OOP Python.\n",
        "\n",
        "TechWorld, a technology training center, wants to allocate courses for instructors. An instructor is identified by name, technology skills, experience and average feedback. An instructor is allocated a course, if he/she satisfies the below two conditions:\n",
        "- eligibility criteria:\n",
        "    - if experience is more than 3 years, average feedback should be 4.5 or more\n",
        "    - if experience is 3 years or less, average feedback should be 4 or more\n",
        "- he/she should posses the technology skill for the course\n",
        "\n",
        "Identify the class name and attributes to represent instructors. Write a Python program to implement the class chosen with its attributes and methods.\n",
        "\n",
        "**Note:**\n",
        "- Consider all instance variables to be private and methods to be public.\n",
        "- An instructor may have multiple technology skills, so consider instance variable, technology_skill to be a list.\n",
        "- *check_eligibility()*: Return true if eligibility criteria is satisfied by the instructor. Else, return false\n",
        "- *allocate_course(technology)*: Return true if the course which requires the given technology can be allocated to the instructor. Else, return false.\n",
        "\n",
        "Represent a few objects of the class, initialize instance variables using setter methods, invoke\n",
        "appropriate methods and test your program."
      ],
      "metadata": {
        "id": "GN2r0jbRewYr"
      }
    },
    {
      "cell_type": "code",
      "source": [
        "# write your code here\n",
        "class instructor:\n",
        "  def __init__(self,name,tech_skills,exp,feedback):\n",
        "    self.__flag=0\n",
        "    self.__name = name\n",
        "    self.__tech_skills = tech_skills\n",
        "    self.__exp = exp\n",
        "    self.__feedback = feedback\n",
        "\n",
        "  def check_eligibility(self,tech):\n",
        "    if self.__exp > 3 and self.__feedback >= 4.5 or self.__exp <= 3 and self.__feedback >= 4:\n",
        "      print('{} is eligible for taking courses'.format(self.__name))\n",
        "      self.__flag=1\n",
        "    else:\n",
        "      print('{} is not eligible for taking courses'.format(self.__name))\n",
        "    \n",
        "    if self.__flag == 1:\n",
        "      self.allocate_course(tech)\n",
        "  \n",
        "  def allocate_course(self,tech):\n",
        "    if tech in self.__tech_skills:\n",
        "      print('{} can take the {} course'.format(self.__name,tech))\n",
        "    else:\n",
        "      print('{}  can not take the {} course'.format(self.__name,tech))\n",
        "\n",
        "\n",
        "Faisal = instructor('Faisal',['Python','JavaScript','DSALGO','BI'],4,4.5)\n",
        "Faisal.check_eligibility('React')\n",
        "Faisal.check_eligibility('React')\n",
        "\n",
        "\n",
        "\n"
      ],
      "metadata": {
        "id": "pdMFuVFnlvKL",
        "colab": {
          "base_uri": "https://localhost:8080/",
          "height": 304
        },
        "outputId": "ce6f6fae-c441-4eec-9e9e-2c186abf3ebb"
      },
      "execution_count": 25,
      "outputs": [
        {
          "output_type": "stream",
          "name": "stdout",
          "text": [
            "Faisal is eligible for taking courses\n",
            "Faisal  can not take the React course\n",
            "Faisal is eligible for taking courses\n",
            "Faisal  can not take the React course\n"
          ]
        },
        {
          "output_type": "error",
          "ename": "AttributeError",
          "evalue": "ignored",
          "traceback": [
            "\u001b[0;31m---------------------------------------------------------------------------\u001b[0m",
            "\u001b[0;31mAttributeError\u001b[0m                            Traceback (most recent call last)",
            "\u001b[0;32m<ipython-input-25-ffe5e755a763>\u001b[0m in \u001b[0;36m<module>\u001b[0;34m\u001b[0m\n\u001b[1;32m     28\u001b[0m \u001b[0mFaisal\u001b[0m\u001b[0;34m.\u001b[0m\u001b[0mcheck_eligibility\u001b[0m\u001b[0;34m(\u001b[0m\u001b[0;34m'React'\u001b[0m\u001b[0;34m)\u001b[0m\u001b[0;34m\u001b[0m\u001b[0;34m\u001b[0m\u001b[0m\n\u001b[1;32m     29\u001b[0m \u001b[0mFaisal\u001b[0m\u001b[0;34m.\u001b[0m\u001b[0mcheck_eligibility\u001b[0m\u001b[0;34m(\u001b[0m\u001b[0;34m'React'\u001b[0m\u001b[0;34m)\u001b[0m\u001b[0;34m\u001b[0m\u001b[0;34m\u001b[0m\u001b[0m\n\u001b[0;32m---> 30\u001b[0;31m \u001b[0mprint\u001b[0m\u001b[0;34m(\u001b[0m\u001b[0mFaisal\u001b[0m\u001b[0;34m.\u001b[0m\u001b[0mname\u001b[0m\u001b[0;34m)\u001b[0m\u001b[0;34m\u001b[0m\u001b[0;34m\u001b[0m\u001b[0m\n\u001b[0m\u001b[1;32m     31\u001b[0m \u001b[0;34m\u001b[0m\u001b[0m\n\u001b[1;32m     32\u001b[0m \u001b[0;34m\u001b[0m\u001b[0m\n",
            "\u001b[0;31mAttributeError\u001b[0m: 'instructor' object has no attribute 'name'"
          ]
        }
      ]
    },
    {
      "cell_type": "code",
      "source": [],
      "metadata": {
        "id": "RuzdW4weSzUh"
      },
      "execution_count": null,
      "outputs": []
    }
  ]
}