{
  "nbformat": 4,
  "nbformat_minor": 0,
  "metadata": {
    "colab": {
      "provenance": []
    },
    "kernelspec": {
      "name": "python3",
      "display_name": "Python 3"
    },
    "language_info": {
      "name": "python"
    }
  },
  "cells": [
    {
      "cell_type": "markdown",
      "source": [
        "### **`Problem-1:`** Write a Python function that takes a list and returns a new list with unique elements of the first list.\n",
        "\n",
        "**Exercise 1:**\n",
        "\n",
        "Input:\n",
        "\n",
        "```bash\n",
        "[1,2,3,3,3,3,4,5]\n",
        "```\n",
        "\n",
        "Output:\n",
        "\n",
        "```bash\n",
        "[1, 2, 3, 4, 5]\n",
        "```"
      ],
      "metadata": {
        "id": "h6dDSW5XGZFi"
      }
    },
    {
      "cell_type": "code",
      "source": [
        "def unqEle(a):\n",
        "  unq= set()\n",
        "  for i in a:\n",
        "    unq.add(i)\n",
        "  return list(unq)\n",
        "\n",
        "arr=[1,2,3,3,3,3,4,5]\n",
        "ans = unqEle(arr)\n",
        "print(ans)"
      ],
      "metadata": {
        "id": "R5pq1C9LGe1y",
        "colab": {
          "base_uri": "https://localhost:8080/"
        },
        "outputId": "833b4b95-2805-4207-965b-8a48a71f59aa"
      },
      "execution_count": null,
      "outputs": [
        {
          "output_type": "stream",
          "name": "stdout",
          "text": [
            "[1, 2, 3, 4, 5]\n"
          ]
        }
      ]
    },
    {
      "cell_type": "markdown",
      "source": [
        "### **`Problem-2:`** Write a Python function that accepts a hyphen-separated sequence of words as parameter and returns the words in a hyphen-separated sequence after sorting them alphabetically.\n",
        "\n",
        "**Example 1:**\n",
        "\n",
        "Input:\n",
        "```bash\n",
        "green-red-yellow-black-white\n",
        "```\n",
        "\n",
        "Output:\n",
        "```bash\n",
        "black-green-red-white-yellow\n",
        "```"
      ],
      "metadata": {
        "id": "UxQ_VoyJGwHj"
      }
    },
    {
      "cell_type": "code",
      "source": [
        "# Write code here\n",
        "def sortWords(words):\n",
        "  listWords = words.split('-')\n",
        "  listWords.sort()\n",
        "\n",
        "  st = ''\n",
        "  for i in listWords:\n",
        "    st += i\n",
        "    st +='-'\n",
        "  st = st[:-1] # removing the last element (-)\n",
        "  return st\n",
        "\n",
        "words = 'green-red-yellow-black-white'\n",
        "\n",
        "ans = sortWords(words)\n",
        "\n",
        "print(ans)"
      ],
      "metadata": {
        "id": "AAts2m5zGwiQ",
        "colab": {
          "base_uri": "https://localhost:8080/"
        },
        "outputId": "60d47646-866e-4b19-a897-c42dd618f844"
      },
      "execution_count": null,
      "outputs": [
        {
          "output_type": "stream",
          "name": "stdout",
          "text": [
            "black-green-red-white-yellow\n"
          ]
        }
      ]
    },
    {
      "cell_type": "markdown",
      "source": [
        "### **`Problem 3:`** Write a Python function that accepts a string and calculate the number of upper case letters and lower case letters.\n",
        "\n",
        "```\n",
        "Sample String : 'CampusX is an Online Mentorship Program fOr EnginEering studentS.'\n",
        "Expected Output :\n",
        "No. of Upper case characters :  9\n",
        "No. of Lower case Characters :  47\n",
        "```"
      ],
      "metadata": {
        "id": "IRGH62S7Gx_n"
      }
    },
    {
      "cell_type": "code",
      "source": [
        "# Write code here\n",
        "def countUL(st):\n",
        "  uc=0\n",
        "  lc=0\n",
        "  for i in st:\n",
        "    if i.isupper():\n",
        "      uc+=1\n",
        "    if i.islower():\n",
        "      lc+=1\n",
        "  return uc,lc\n",
        "st = 'CampusX is an Online Mentorship Program fOr EnginEering studentS'\n",
        "\n",
        "uc,lc=countUL(st)\n",
        "\n",
        "print('No. of Upper case characters :',uc)\n",
        "print('No. of Lower case Characters :',lc)\n"
      ],
      "metadata": {
        "id": "OaUrD8vVG5o8",
        "colab": {
          "base_uri": "https://localhost:8080/"
        },
        "outputId": "3b58f538-04b6-4c41-a392-24b82a5c88a9"
      },
      "execution_count": null,
      "outputs": [
        {
          "output_type": "stream",
          "name": "stdout",
          "text": [
            "No. of Upper case characters : 9\n",
            "No. of Lower case Characters : 47\n"
          ]
        }
      ]
    },
    {
      "cell_type": "markdown",
      "source": [
        "### **`Problem 4:`** Write a Python program to print the even numbers from a given list.\n",
        "```\n",
        "Sample List : [1, 2, 3, 4, 5, 6, 7, 8, 9]\n",
        "Expected Result : [2, 4, 6, 8]\n",
        "```"
      ],
      "metadata": {
        "id": "V1BFFdYQG7Sn"
      }
    },
    {
      "cell_type": "code",
      "source": [
        "# Write code here\n",
        "num = [1, 2, 3, 4, 5, 6, 7, 8, 9]\n",
        "list(filter(lambda x:x%2 == 0,num))\n"
      ],
      "metadata": {
        "id": "VvAReLoDG_Z3",
        "colab": {
          "base_uri": "https://localhost:8080/"
        },
        "outputId": "abd9dcdb-91d8-4cc7-8397-b954a29aa797"
      },
      "execution_count": null,
      "outputs": [
        {
          "output_type": "execute_result",
          "data": {
            "text/plain": [
              "[2, 4, 6, 8]"
            ]
          },
          "metadata": {},
          "execution_count": 17
        }
      ]
    },
    {
      "cell_type": "markdown",
      "source": [
        "### **`Problem 5:`** Write a Python function to check whether a number is perfect or not.\n",
        "\n",
        "A Perfect number is a number that is half the sum of all of its positive divisors (including itself).\n",
        "\n",
        "Example : \n",
        "\n",
        "```\n",
        "The first perfect number is 6, because 1, 2, and 3 are its proper positive divisors, and 1 + 2 + 3 = 6. \n",
        "Equivalently, the number 6 is equal to half the sum of all its positive divisors: ( 1 + 2 + 3 + 6 ) / 2 = 6. \n",
        "\n",
        "The next perfect number is 28 = 1 + 2 + 4 + 7 + 14. This is followed by the perfect numbers 496 and 8128.\n",
        "```\n"
      ],
      "metadata": {
        "id": "qrK39Gn-HHb4"
      }
    },
    {
      "cell_type": "code",
      "source": [
        "# Write code here\n",
        "\n",
        "def Perfect(number):\n",
        "  divisors=[]\n",
        "  for i in range(1,number+1):\n",
        "    if int(number % i) == 0:\n",
        "      divisors.append(i)\n",
        "  \n",
        "  sum = 0\n",
        "  for i in range(0,len(divisors)-1):\n",
        "    sum+= divisors[i]\n",
        "  return sum\n",
        "\n",
        "n = int(input('Provide a number:  '))\n",
        "ans = Perfect(n)\n",
        "if ans == n:\n",
        "  print('It is a perfect number')\n",
        "else:\n",
        "  print('It\\'s not a perfect number')"
      ],
      "metadata": {
        "id": "P-OI7H78HICs",
        "colab": {
          "base_uri": "https://localhost:8080/"
        },
        "outputId": "71734d10-8eb4-4576-f831-5acf54e07623"
      },
      "execution_count": null,
      "outputs": [
        {
          "output_type": "stream",
          "name": "stdout",
          "text": [
            "Provide a number:  512\n",
            "It's not a perfect number\n"
          ]
        }
      ]
    },
    {
      "cell_type": "markdown",
      "source": [
        "### **`Problem-6:`** Write a Python function to concatenate any no of dictionaries to create a new one.\n",
        "\n",
        "```\n",
        "Sample Dictionary :\n",
        "dic1={1:10, 2:20}\n",
        "dic2={3:30, 4:40}\n",
        "dic3={5:50,6:60}\n",
        "Expected Result : {1: 10, 2: 20, 3: 30, 4: 40, 5: 50, 6: 60}\n",
        "```"
      ],
      "metadata": {
        "id": "oZdpcG77HO-6"
      }
    },
    {
      "cell_type": "code",
      "source": [
        "# Write code here\n",
        "def mergeDic(*dic):\n",
        "  sampleDic={}\n",
        "  print(dic) # we are getting all the values into a tuple.\n",
        "  for i in dic:\n",
        "    for key,val in i.items():\n",
        "      sampleDic[key]=val\n",
        "  return sampleDic\n",
        "\n",
        "\n",
        "\n",
        "dic1={1:10, 2:20}\n",
        "dic2={3:30, 4:40}\n",
        "dic3={5:50,6:60}\n",
        "\n",
        "ans = mergeDic(dic1,dic2,dic3)\n",
        "\n",
        "print(ans)\n",
        "\n"
      ],
      "metadata": {
        "id": "LQgfAY4ZHPhj",
        "colab": {
          "base_uri": "https://localhost:8080/"
        },
        "outputId": "40c3e8f9-65dd-467d-8c89-94b8284b3459"
      },
      "execution_count": null,
      "outputs": [
        {
          "output_type": "stream",
          "name": "stdout",
          "text": [
            "({1: 10, 2: 20}, {3: 30, 4: 40}, {5: 50, 6: 60})\n",
            "{1: 10, 2: 20, 3: 30, 4: 40, 5: 50, 6: 60}\n"
          ]
        }
      ]
    },
    {
      "cell_type": "markdown",
      "source": [
        "`Problem-7` Write a python function that accepts a string as input and returns the word with most occurence.\n",
        "\n",
        "```\n",
        "Input:\n",
        "hello how are you i am fine thank you\n",
        "```\n",
        "\n",
        "```\n",
        "Output\n",
        "you -> 2\n",
        "```"
      ],
      "metadata": {
        "id": "jQ6SzbCkHRd0"
      }
    },
    {
      "cell_type": "code",
      "source": [
        "# Write code here\n",
        "def wwmo(s):\n",
        "  wordList = s.split(' ')\n",
        "  words = {}\n",
        "  ans=0\n",
        "  for i in wordList:\n",
        "    words[i] = 0\n",
        "  for i in wordList:\n",
        "    words[i] = words[i] + 1\n",
        "    if words[i] > ans:\n",
        "      ans = words[i]\n",
        "  for key,value in words.items():\n",
        "    if value == ans:\n",
        "      return key\n",
        "  return 'None'\n",
        "\n",
        "sentence = input()\n",
        "\n",
        "ans = wwmo(sentence)\n",
        "print(ans)"
      ],
      "metadata": {
        "id": "Lh04JHLzIW7Z",
        "colab": {
          "base_uri": "https://localhost:8080/"
        },
        "outputId": "cf0af839-81ca-47d2-96d9-c8ba53224787"
      },
      "execution_count": null,
      "outputs": [
        {
          "output_type": "stream",
          "name": "stdout",
          "text": [
            "hello how you are i am find thank you\n",
            "you\n"
          ]
        }
      ]
    },
    {
      "cell_type": "markdown",
      "source": [
        "`Problem-8` Write a python function that receives a list of integers and prints out a histogram of bin size 10\n",
        "\n",
        "```\n",
        "Input:\n",
        "[13,42,15,37,22,39,41,50]\n",
        "```\n",
        "\n",
        "```\n",
        "Output:\n",
        "{11-20:2,21-30:1,31-40:2,41-50:3}\n",
        "```"
      ],
      "metadata": {
        "id": "1r8SpVntI-IW"
      }
    },
    {
      "cell_type": "code",
      "source": [
        "# Write code here\n",
        "bin = {}\n",
        "def digitCount(n):\n",
        "  backup=n\n",
        "  binCount=0\n",
        "  count=0\n",
        "  x=n\n",
        "  while n!=0:\n",
        "    x=int(n%10)\n",
        "    #print(x)\n",
        "    n=int(n/10)\n",
        "    count+=1\n",
        "  num=x*(10**(count-1))+1\n",
        "  #print(num)\n",
        "  if '{}-{}'.format(num,num+9) in bin.keys():\n",
        "    bin['{}-{}'.format(num,num+9)] += 1\n",
        "    \n",
        "  else:\n",
        "    if backup % 10 == 0:\n",
        "      print('backup',backup)\n",
        "      bin['{}-{}'.format(num-10,num+9-10)] +=1\n",
        "    else:\n",
        "      bin['{}-{}'.format(num,num+9)] = 1\n",
        "  \n",
        "  \n",
        "def histogram(arr):\n",
        "  for i in arr:\n",
        "    digitCount(i)\n",
        "  \n",
        "\n",
        "arr = [13,42,15,37,22,39,41,50]\n",
        "arr.sort()\n",
        "histogram(arr)\n",
        "\n",
        "\n",
        "print(bin)\n",
        "\n",
        "\n",
        "\n",
        "\n",
        "\n",
        "\n"
      ],
      "metadata": {
        "id": "7W0J8rUjJovg",
        "colab": {
          "base_uri": "https://localhost:8080/"
        },
        "outputId": "a642391f-a432-4262-aa05-6eb8f349384c"
      },
      "execution_count": null,
      "outputs": [
        {
          "output_type": "stream",
          "name": "stdout",
          "text": [
            "backup 50\n",
            "{'11-20': 2, '21-30': 1, '31-40': 2, '41-50': 3}\n"
          ]
        }
      ]
    },
    {
      "cell_type": "markdown",
      "source": [
        "`Problem-9` Write a python function that accepts a list of 2D co-ordinates and a query point, and then finds the the co-ordinate which is closest in terms of distance from the query point.\n",
        "\n",
        "```\n",
        "List of Coordinates\n",
        "[(1,1),(2,2),(3,3),(4,4)]\n",
        "Query Point\n",
        "(0,0)\n",
        "```\n",
        "\n",
        "```\n",
        "Output\n",
        "Nearest to (0,0) is (1,1)\n",
        "```"
      ],
      "metadata": {
        "id": "1P2-rbgXKE53"
      }
    },
    {
      "cell_type": "code",
      "source": [
        "# Write code here\n",
        "min=999999\n",
        "minX=0\n",
        "minY=0\n",
        "\n",
        "def findDistance(x1,y1,x2,y2):\n",
        "  return int(((x2-x1)**2 + (y2-y1)**2)**0.5)\n",
        "\n",
        "def sol(arr,x,y):\n",
        "  global min\n",
        "  for i in arr:\n",
        "    val = findDistance(i[0],i[1],x,y)\n",
        "    #print(val)\n",
        "    if min > val:\n",
        "      min = val\n",
        "      minX=i[0]\n",
        "      minY=i[1]\n",
        "  return minX,minY\n",
        "\n",
        "\n",
        "arr = [(1,1),(2,2),(3,3),(4,4)]\n",
        "ans = sol(arr,0,0)\n",
        "print(ans)\n"
      ],
      "metadata": {
        "id": "zjn7vSTIJ81G",
        "colab": {
          "base_uri": "https://localhost:8080/"
        },
        "outputId": "9e453513-5fbe-45e6-e188-303f0dfe1165"
      },
      "execution_count": 12,
      "outputs": [
        {
          "output_type": "stream",
          "name": "stdout",
          "text": [
            "(1, 1)\n"
          ]
        }
      ]
    },
    {
      "cell_type": "markdown",
      "source": [
        "`Problem-10`:Write a python program that receives a list of strings and performs bag of word operation on those strings\n",
        "\n",
        "https://en.wikipedia.org/wiki/Bag-of-words_model"
      ],
      "metadata": {
        "id": "i-B6igmyK9hB"
      }
    },
    {
      "cell_type": "code",
      "source": [
        "# Write code here\n",
        "st = ['John likes to watch movies Mary likes movies too','Mary also likes to watch football games']\n",
        "newStr = (\" \".join(st)).split(' ')\n",
        "#print(newStr)\n",
        "words={}\n",
        "for i in newStr:\n",
        "  if i in words.keys():\n",
        "    #print(i)\n",
        "    words[i] +=1\n",
        "  else:\n",
        "    words[i]=1\n",
        "print(words)"
      ],
      "metadata": {
        "id": "N2l1_AWULT-z",
        "colab": {
          "base_uri": "https://localhost:8080/"
        },
        "outputId": "360122f1-e525-41d9-887a-dfb8435570d8"
      },
      "execution_count": 20,
      "outputs": [
        {
          "output_type": "stream",
          "name": "stdout",
          "text": [
            "{'John': 1, 'likes': 3, 'to': 2, 'watch': 2, 'movies': 2, 'Mary': 2, 'too': 1, 'also': 1, 'football': 1, 'games': 1}\n"
          ]
        }
      ]
    },
    {
      "cell_type": "markdown",
      "source": [
        "###`Problem 11:` Write a Python program to add three given lists using Python map and lambda."
      ],
      "metadata": {
        "id": "dHTRKb-DqMLw"
      }
    },
    {
      "cell_type": "code",
      "source": [
        "# Write code here\n",
        "\n",
        "x=[1,2,3]\n",
        "y=[4,5,6]\n",
        "z=[7,8,9]\n",
        "\n",
        "ans = map(lambda a,b,c: a+b+c, x,y,z)\n",
        "print(list(ans))"
      ],
      "metadata": {
        "id": "NfJdzyNZqNW-",
        "colab": {
          "base_uri": "https://localhost:8080/"
        },
        "outputId": "5c6407a9-e093-4ab6-9e09-28edf7f901f5"
      },
      "execution_count": 24,
      "outputs": [
        {
          "output_type": "stream",
          "name": "stdout",
          "text": [
            "[12, 15, 18]\n"
          ]
        }
      ]
    },
    {
      "cell_type": "markdown",
      "source": [
        "###`Problem-12:`Write a Python program to create a list containing the power of said number in bases raised to the corresponding number in the index using Python map.\n",
        "`Input:`\n",
        "```\n",
        "list1 = [1,2,3,4,5,6]\n",
        "```\n",
        "`Output:`\n",
        "```\n",
        "[1,2,9,64,625,-]\n",
        "```\n"
      ],
      "metadata": {
        "id": "MgHP7mbUqO8l"
      }
    },
    {
      "cell_type": "code",
      "source": [
        "# Write code here\n",
        "\n",
        "arr=[1,2,3,4,5,6]\n",
        "ans = map(lambda x:x**(x-1),arr)\n",
        "\n",
        "print(list(ans))"
      ],
      "metadata": {
        "id": "gG3Dc6N3qbvN",
        "colab": {
          "base_uri": "https://localhost:8080/"
        },
        "outputId": "6eb4aa51-98ce-4c5c-ba7c-0476e334b466"
      },
      "execution_count": 27,
      "outputs": [
        {
          "output_type": "stream",
          "name": "stdout",
          "text": [
            "[1, 2, 9, 64, 625, 7776]\n"
          ]
        }
      ]
    },
    {
      "cell_type": "markdown",
      "source": [
        "###`Problem-13` Using filter() and list() functions and .lower() method filter all the vowels in a given string.\n",
        "\n"
      ],
      "metadata": {
        "id": "G26SYq6vqdLN"
      }
    },
    {
      "cell_type": "code",
      "source": [
        "# Write code here\n",
        "\n",
        "st = 'AMango'\n",
        "\n",
        "ans = filter(lambda x:x not in 'AEIOUaeiou',st)\n",
        "print(list(ans))"
      ],
      "metadata": {
        "id": "zurga3DIqmEx",
        "colab": {
          "base_uri": "https://localhost:8080/"
        },
        "outputId": "9bac5786-688c-4e50-d108-0b572c41fa86"
      },
      "execution_count": 40,
      "outputs": [
        {
          "output_type": "stream",
          "name": "stdout",
          "text": [
            "['M', 'n', 'g']\n"
          ]
        }
      ]
    },
    {
      "cell_type": "markdown",
      "source": [
        "`Problem-14`: Use reduce to convert a 2D list to 1D"
      ],
      "metadata": {
        "id": "uQrsunZSqoYu"
      }
    },
    {
      "cell_type": "code",
      "source": [
        "# Write code here\n",
        "from functools import reduce\n",
        "\n",
        "list2D = [[1,2,3],[4,5,6],[7,8,9]]\n",
        "\n",
        "ans = reduce(lambda x,y: x+y, list2D)\n",
        "print(ans)\n",
        "# now find the min and max value using reduce\n",
        "arr = [3,1,3,2,1,5,6,3,7]\n",
        "minV = reduce(lambda x,y:x if x<y else y,arr)\n",
        "maxV = reduce(lambda x,y:x if x>y else y,arr)\n",
        "print(minV)\n",
        "print(maxV)\n"
      ],
      "metadata": {
        "id": "E1YUwnfgqnka",
        "colab": {
          "base_uri": "https://localhost:8080/"
        },
        "outputId": "353091f5-5822-49f1-d1ba-1f0483eb5b83"
      },
      "execution_count": 46,
      "outputs": [
        {
          "output_type": "stream",
          "name": "stdout",
          "text": [
            "[1, 2, 3, 4, 5, 6, 7, 8, 9]\n",
            "1\n",
            "7\n"
          ]
        }
      ]
    },
    {
      "cell_type": "markdown",
      "source": [
        "`Problem 15`- A dictionary contains following information about 5 employees:\n",
        "- First name\n",
        "- Last name\n",
        "- Age\n",
        "- Grade(Skilled,Semi-skilled,Highly skilled)<br>\n",
        "Write a program using map/filter/reduce to a list of employees(first name + last name) who are highly skilled"
      ],
      "metadata": {
        "id": "8-DLQEawt-_t"
      }
    },
    {
      "cell_type": "code",
      "source": [
        "# Write code here\n",
        "employees = [\n",
        "    {\n",
        "        'fname':'Nitish',\n",
        "        'lname':'Singh',\n",
        "        'age' : 33,\n",
        "        'grade':'skilled'\n",
        "    },\n",
        "    {\n",
        "        'fname':'Ankit',\n",
        "        'lname':'Verma',\n",
        "        'age' : 34,\n",
        "        'grade':'semi-skilled'\n",
        "    },\n",
        "    {\n",
        "        'fname':'Neha',\n",
        "        'lname':'Singh',\n",
        "        'age' : 35,\n",
        "        'grade':'highly-skilled'\n",
        "    },\n",
        "    {\n",
        "        'fname':'Anurag',\n",
        "        'lname':'Kumar',\n",
        "        'age' : 30,\n",
        "        'grade':'skilled'\n",
        "    },\n",
        "    {\n",
        "        'fname':'Abhinav',\n",
        "        'lname':'Sharma',\n",
        "        'age' : 37,\n",
        "        'grade':'highly-skilled'\n",
        "    }\n",
        "    \n",
        "]"
      ],
      "metadata": {
        "id": "OLvptttLs6OU"
      },
      "execution_count": null,
      "outputs": []
    },
    {
      "cell_type": "code",
      "source": [
        "list(map(lambda x:x['fname'] + ' ' + x['lname'],list(filter(lambda x:True if x['grade'] == 'highly-skilled' else False,employees))))"
      ],
      "metadata": {
        "id": "vLX0FAQkui3y",
        "colab": {
          "base_uri": "https://localhost:8080/"
        },
        "outputId": "e7d50543-c30e-4a20-c793-756f5a435df7"
      },
      "execution_count": null,
      "outputs": [
        {
          "output_type": "execute_result",
          "data": {
            "text/plain": [
              "['Neha Singh', 'Abhinav Sharma']"
            ]
          },
          "metadata": {},
          "execution_count": 17
        }
      ]
    },
    {
      "cell_type": "code",
      "source": [],
      "metadata": {
        "id": "ldMjGfkgAMr9"
      },
      "execution_count": null,
      "outputs": []
    }
  ]
}