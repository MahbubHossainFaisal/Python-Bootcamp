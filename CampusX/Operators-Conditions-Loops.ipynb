{
 "cells": [
  {
   "cell_type": "markdown",
   "id": "1170ee07",
   "metadata": {},
   "source": [
    "# Operators"
   ]
  },
  {
   "cell_type": "raw",
   "id": "2cca84ca",
   "metadata": {},
   "source": [
    "// (Integer Division) Operator \n",
    "what this (//) operator does is, it removes the extra fractional point and make the value an integer."
   ]
  },
  {
   "cell_type": "code",
   "execution_count": 1,
   "id": "3e072b74",
   "metadata": {},
   "outputs": [
    {
     "data": {
      "text/plain": [
       "1.4"
      ]
     },
     "execution_count": 1,
     "metadata": {},
     "output_type": "execute_result"
    }
   ],
   "source": [
    "7/5"
   ]
  },
  {
   "cell_type": "code",
   "execution_count": 2,
   "id": "4f4033ba",
   "metadata": {},
   "outputs": [
    {
     "data": {
      "text/plain": [
       "1"
      ]
     },
     "execution_count": 2,
     "metadata": {},
     "output_type": "execute_result"
    }
   ],
   "source": [
    "7//5"
   ]
  },
  {
   "cell_type": "raw",
   "id": "d519d403",
   "metadata": {},
   "source": [
    "** (Power) Operator\n",
    "This operator is used to calculate power of something"
   ]
  },
  {
   "cell_type": "code",
   "execution_count": 3,
   "id": "6572f6c3",
   "metadata": {},
   "outputs": [
    {
     "data": {
      "text/plain": [
       "49"
      ]
     },
     "execution_count": 3,
     "metadata": {},
     "output_type": "execute_result"
    }
   ],
   "source": [
    "7**2"
   ]
  },
  {
   "cell_type": "markdown",
   "id": "02922fbb",
   "metadata": {},
   "source": [
    "# Bitwise Operators"
   ]
  },
  {
   "cell_type": "raw",
   "id": "b3ec4c16",
   "metadata": {},
   "source": [
    "Bitwise & operator\n",
    "\n",
    "What this operator does is it takes the integers and perform (AND) operations in their binary form and again convert \n",
    "that binary result into integer and show it to the user."
   ]
  },
  {
   "cell_type": "code",
   "execution_count": 4,
   "id": "7d7d2ef3",
   "metadata": {},
   "outputs": [
    {
     "data": {
      "text/plain": [
       "2"
      ]
     },
     "execution_count": 4,
     "metadata": {},
     "output_type": "execute_result"
    }
   ],
   "source": [
    "2 & 3"
   ]
  },
  {
   "cell_type": "raw",
   "id": "82dd62f1",
   "metadata": {},
   "source": [
    "Bitwise | operator\n",
    "\n",
    "What this operator does is it takes the integers and perform (OR) operations in their binary form and again convert \n",
    "that binary result into integer and show it to the user."
   ]
  },
  {
   "cell_type": "code",
   "execution_count": 5,
   "id": "f5fa323f",
   "metadata": {},
   "outputs": [
    {
     "data": {
      "text/plain": [
       "3"
      ]
     },
     "execution_count": 5,
     "metadata": {},
     "output_type": "execute_result"
    }
   ],
   "source": [
    "2 | 3"
   ]
  },
  {
   "cell_type": "raw",
   "id": "611e796e",
   "metadata": {},
   "source": [
    "Bitwise ^ operator\n",
    "\n",
    "What this operator does is it takes the integers and perform (XOR) operations in their binary form and again convert \n",
    "that binary result into integer and show it to the user."
   ]
  },
  {
   "cell_type": "code",
   "execution_count": 6,
   "id": "c6cc8ac9",
   "metadata": {},
   "outputs": [
    {
     "data": {
      "text/plain": [
       "1"
      ]
     },
     "execution_count": 6,
     "metadata": {},
     "output_type": "execute_result"
    }
   ],
   "source": [
    "2^3"
   ]
  },
  {
   "cell_type": "raw",
   "id": "fafba0af",
   "metadata": {},
   "source": [
    "Bitwise ~ operator\n",
    "\n",
    "What this operator does is it takes the integers and perform (NOT) operations in their binary form means if there is 0 it\n",
    "makes it 1 and if there is 1 it makes it 0 and convert the binary form into integer form"
   ]
  },
  {
   "cell_type": "code",
   "execution_count": 7,
   "id": "2509d9d6",
   "metadata": {},
   "outputs": [
    {
     "data": {
      "text/plain": [
       "-3"
      ]
     },
     "execution_count": 7,
     "metadata": {},
     "output_type": "execute_result"
    }
   ],
   "source": [
    "~2"
   ]
  },
  {
   "cell_type": "markdown",
   "id": "bfc703c2",
   "metadata": {},
   "source": [
    "# Membership Operator (in , not in)"
   ]
  },
  {
   "cell_type": "markdown",
   "id": "e9a3a4d7",
   "metadata": {},
   "source": [
    "it just check if any value is available in any array or string or not"
   ]
  },
  {
   "cell_type": "code",
   "execution_count": 12,
   "id": "97f4f2df",
   "metadata": {},
   "outputs": [
    {
     "name": "stdout",
     "output_type": "stream",
     "text": [
      "True\n",
      "True\n",
      "False\n"
     ]
    }
   ],
   "source": [
    "print('D' in 'DhakaDelhi')\n",
    "print(1 in [1,3,5])\n",
    "print('C' not in 'Chakmahaka')"
   ]
  },
  {
   "cell_type": "markdown",
   "id": "c2a3db6e",
   "metadata": {},
   "source": [
    "# While Loop With Else"
   ]
  },
  {
   "cell_type": "code",
   "execution_count": 1,
   "id": "4dac1000",
   "metadata": {},
   "outputs": [
    {
     "name": "stdout",
     "output_type": "stream",
     "text": [
      "1\n",
      "2\n",
      "3\n",
      "4\n",
      "Limit crossed\n"
     ]
    }
   ],
   "source": [
    "x = 1\n",
    "while x < 5:\n",
    "    print(x)\n",
    "    x+=1\n",
    "else:\n",
    "    print('Limit crossed')"
   ]
  },
  {
   "cell_type": "markdown",
   "id": "23b3a06d",
   "metadata": {},
   "source": [
    "# Guessing Game"
   ]
  },
  {
   "cell_type": "code",
   "execution_count": 7,
   "id": "8cddf3b0",
   "metadata": {},
   "outputs": [
    {
     "name": "stdout",
     "output_type": "stream",
     "text": [
      "Please guess a number between 1 to 10: \n",
      "5\n",
      "Please guess lower\n",
      "Please guess a number between 1 to 103\n",
      "Congrats! You are correct\n",
      "You have got the answer in  2  attempts\n"
     ]
    }
   ],
   "source": [
    "import random\n",
    "\n",
    "correctAns = random.randint(1,11)\n",
    "counter = 0;\n",
    "guess = int(input('Please guess a number between 1 to 10: \\n'))\n",
    "\n",
    "while guess != correctAns:\n",
    "    if guess > correctAns:\n",
    "        print('Please guess lower')\n",
    "        counter+=1\n",
    "    else:\n",
    "        print('Please guess higher')\n",
    "        counter+=1\n",
    "    guess = int(input('Please guess a number between 1 to 10'))\n",
    "else:\n",
    "    print('Congrats! You are correct')\n",
    "    print('You have got the answer in ',counter+1,' attempts')"
   ]
  },
  {
   "cell_type": "markdown",
   "id": "a58e42c1",
   "metadata": {},
   "source": [
    "# Print a Range Of Numbers in reverse"
   ]
  },
  {
   "cell_type": "code",
   "execution_count": 8,
   "id": "d37746e6",
   "metadata": {},
   "outputs": [
    {
     "name": "stdout",
     "output_type": "stream",
     "text": [
      "10\n",
      "9\n",
      "8\n",
      "7\n",
      "6\n",
      "5\n",
      "4\n",
      "3\n",
      "2\n",
      "1\n"
     ]
    }
   ],
   "source": [
    "for i in range(10,0,-1):\n",
    "    print(i)"
   ]
  },
  {
   "cell_type": "code",
   "execution_count": null,
   "id": "afc242af",
   "metadata": {},
   "outputs": [],
   "source": []
  }
 ],
 "metadata": {
  "kernelspec": {
   "display_name": "Python 3",
   "language": "python",
   "name": "python3"
  },
  "language_info": {
   "codemirror_mode": {
    "name": "ipython",
    "version": 3
   },
   "file_extension": ".py",
   "mimetype": "text/x-python",
   "name": "python",
   "nbconvert_exporter": "python",
   "pygments_lexer": "ipython3",
   "version": "3.8.8"
  }
 },
 "nbformat": 4,
 "nbformat_minor": 5
}
