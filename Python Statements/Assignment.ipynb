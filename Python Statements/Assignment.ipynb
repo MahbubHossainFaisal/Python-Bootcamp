{
 "cells": [
  {
   "cell_type": "raw",
   "id": "4f384a8e",
   "metadata": {},
   "source": []
  },
  {
   "cell_type": "code",
   "execution_count": 10,
   "id": "53bfcc75",
   "metadata": {},
   "outputs": [
    {
     "name": "stdout",
     "output_type": "stream",
     "text": [
      "['Print', 'only', 'the', 'words', 'that', 'start', 'with', 's', 'in', 'this', 'sentence']\n",
      "Print\n",
      "only\n",
      "the\n",
      "words\n",
      "that\n",
      "with\n",
      "in\n",
      "this\n"
     ]
    }
   ],
   "source": [
    " # Use for, .split(), and if to create a Statement that will print out words that start with 's':\n",
    "  \n",
    "st = 'Print only the words that start with s in this sentence'\n",
    "#Code here\n",
    "word_list = st.split(' ')\n",
    "\n",
    "#print(word_list)\n",
    "for x in word_list:\n",
    "   if(x[0] == 's'):\n",
    "    continue;\n",
    "   else:\n",
    "    print(x)\n",
    "\n"
   ]
  },
  {
   "cell_type": "code",
   "execution_count": 12,
   "id": "100be0d6",
   "metadata": {},
   "outputs": [
    {
     "name": "stdout",
     "output_type": "stream",
     "text": [
      "0\n",
      "2\n",
      "4\n",
      "6\n",
      "8\n",
      "10\n"
     ]
    }
   ],
   "source": [
    "# Use range() to print all the even numbers from 0 to 10.\n",
    "\n",
    "#Code Here\n",
    "for x in range(0,11):\n",
    "    if(x%2 == 0):\n",
    "        print(x)"
   ]
  },
  {
   "cell_type": "code",
   "execution_count": 16,
   "id": "abb342a3",
   "metadata": {},
   "outputs": [
    {
     "name": "stdout",
     "output_type": "stream",
     "text": [
      "[3, 6, 9, 12, 15, 18, 21, 24, 27, 30, 33, 36, 39, 42, 45, 48]\n"
     ]
    }
   ],
   "source": [
    "\n",
    "# Use a List Comprehension to create a list of all numbers between 1 and 50 that are divisible by 3.\n",
    "start = 1\n",
    "end = 51\n",
    "\n",
    "elements = []\n",
    "\n",
    "for i in range (1,50):\n",
    "    if i % 3 == 0:\n",
    "        elements.append(i)\n",
    "print(elements)"
   ]
  },
  {
   "cell_type": "code",
   "execution_count": 18,
   "id": "5a308828",
   "metadata": {},
   "outputs": [
    {
     "name": "stdout",
     "output_type": "stream",
     "text": [
      "word\n",
      "in\n",
      "this\n",
      "sentence\n",
      "that\n",
      "an\n",
      "even\n",
      "number\n",
      "of\n"
     ]
    }
   ],
   "source": [
    "# Go through the string below and if the length of a word is even print \"even!\"\n",
    "\n",
    "st = 'Print every word in this sentence that has an even number of letters'\n",
    "#Code in this cell\n",
    "\n",
    "for x in st.split(' '):\n",
    "    if(len(x) % 2 == 0):\n",
    "        print(x)\n"
   ]
  },
  {
   "cell_type": "code",
   "execution_count": 23,
   "id": "102464a4",
   "metadata": {},
   "outputs": [
    {
     "name": "stdout",
     "output_type": "stream",
     "text": [
      "1  :Buzz\n",
      "2  :Buzz\n",
      "3  :Fizz\n",
      "4  :Buzz\n",
      "5  :Buzz\n",
      "6  :Fizz\n",
      "7  :Buzz\n",
      "8  :Buzz\n",
      "9  :Fizz\n",
      "10  :Buzz\n",
      "11  :Buzz\n",
      "12  :Fizz\n",
      "13  :Buzz\n",
      "14  :Buzz\n",
      "15  :FizzBuzz\n",
      "16  :Buzz\n",
      "17  :Buzz\n",
      "18  :Fizz\n",
      "19  :Buzz\n",
      "20  :Buzz\n",
      "21  :Fizz\n",
      "22  :Buzz\n",
      "23  :Buzz\n",
      "24  :Fizz\n",
      "25  :Buzz\n",
      "26  :Buzz\n",
      "27  :Fizz\n",
      "28  :Buzz\n",
      "29  :Buzz\n",
      "30  :FizzBuzz\n",
      "31  :Buzz\n",
      "32  :Buzz\n",
      "33  :Fizz\n",
      "34  :Buzz\n",
      "35  :Buzz\n",
      "36  :Fizz\n",
      "37  :Buzz\n",
      "38  :Buzz\n",
      "39  :Fizz\n",
      "40  :Buzz\n",
      "41  :Buzz\n",
      "42  :Fizz\n",
      "43  :Buzz\n",
      "44  :Buzz\n",
      "45  :FizzBuzz\n",
      "46  :Buzz\n",
      "47  :Buzz\n",
      "48  :Fizz\n",
      "49  :Buzz\n",
      "50  :Buzz\n",
      "51  :Fizz\n",
      "52  :Buzz\n",
      "53  :Buzz\n",
      "54  :Fizz\n",
      "55  :Buzz\n",
      "56  :Buzz\n",
      "57  :Fizz\n",
      "58  :Buzz\n",
      "59  :Buzz\n",
      "60  :FizzBuzz\n",
      "61  :Buzz\n",
      "62  :Buzz\n",
      "63  :Fizz\n",
      "64  :Buzz\n",
      "65  :Buzz\n",
      "66  :Fizz\n",
      "67  :Buzz\n",
      "68  :Buzz\n",
      "69  :Fizz\n",
      "70  :Buzz\n",
      "71  :Buzz\n",
      "72  :Fizz\n",
      "73  :Buzz\n",
      "74  :Buzz\n",
      "75  :FizzBuzz\n",
      "76  :Buzz\n",
      "77  :Buzz\n",
      "78  :Fizz\n",
      "79  :Buzz\n",
      "80  :Buzz\n",
      "81  :Fizz\n",
      "82  :Buzz\n",
      "83  :Buzz\n",
      "84  :Fizz\n",
      "85  :Buzz\n",
      "86  :Buzz\n",
      "87  :Fizz\n",
      "88  :Buzz\n",
      "89  :Buzz\n",
      "90  :FizzBuzz\n",
      "91  :Buzz\n",
      "92  :Buzz\n",
      "93  :Fizz\n",
      "94  :Buzz\n",
      "95  :Buzz\n",
      "96  :Fizz\n",
      "97  :Buzz\n",
      "98  :Buzz\n",
      "99  :Fizz\n",
      "100  :Buzz\n"
     ]
    }
   ],
   "source": [
    "#Write a program that prints the integers from 1 to 100. \n",
    "#But for multiples of three print\n",
    "#\"Fizz\" instead of the number, and for the multiples of five print \"Buzz\". \n",
    "#For numbers which are multiples of both three and five print \"FizzBuzz\".\n",
    "\n",
    "#Code in this cell\n",
    "\n",
    "for index,x in enumerate(range(1,101)):\n",
    "    if(x%3 == 0 and x%5 == 0):\n",
    "        print(index+1,' :FizzBuzz')\n",
    "    elif(x%3 == 0):\n",
    "        print(index+1,' :Fizz')\n",
    "    else:\n",
    "        print(index+1,' :Buzz')"
   ]
  },
  {
   "cell_type": "code",
   "execution_count": 24,
   "id": "a141f3a3",
   "metadata": {},
   "outputs": [
    {
     "data": {
      "text/plain": [
       "['C', 'a', 'l', 'o', 't', 'f', 'l', 'o', 'e', 'w', 'i', 't', 's']"
      ]
     },
     "execution_count": 24,
     "metadata": {},
     "output_type": "execute_result"
    }
   ],
   "source": [
    "# Use List Comprehension to create a list of the first letters of every word in the string below:\n",
    "\n",
    "st = 'Create a list of the first letters of every word in this string'\n",
    "#Code in this cell\n",
    "\n",
    "firstCharArray = [ temp[0] for temp in st.split(' ')]\n",
    "firstCharArray"
   ]
  },
  {
   "cell_type": "code",
   "execution_count": null,
   "id": "553c387c",
   "metadata": {},
   "outputs": [],
   "source": []
  }
 ],
 "metadata": {
  "kernelspec": {
   "display_name": "Python 3",
   "language": "python",
   "name": "python3"
  },
  "language_info": {
   "codemirror_mode": {
    "name": "ipython",
    "version": 3
   },
   "file_extension": ".py",
   "mimetype": "text/x-python",
   "name": "python",
   "nbconvert_exporter": "python",
   "pygments_lexer": "ipython3",
   "version": "3.8.8"
  }
 },
 "nbformat": 4,
 "nbformat_minor": 5
}
