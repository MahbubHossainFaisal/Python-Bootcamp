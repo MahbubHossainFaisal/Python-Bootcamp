{
 "cells": [
  {
   "cell_type": "markdown",
   "id": "2cf50a4f",
   "metadata": {},
   "source": [
    "# For Loops"
   ]
  },
  {
   "cell_type": "raw",
   "id": "dfc77cd2",
   "metadata": {},
   "source": [
    "Example of a for loop"
   ]
  },
  {
   "cell_type": "code",
   "execution_count": 7,
   "id": "dcbe7037",
   "metadata": {},
   "outputs": [
    {
     "name": "stdout",
     "output_type": "stream",
     "text": [
      "1 is odd\n",
      "2 is even\n",
      "4 is even\n",
      "6 is even\n",
      "8 is even\n",
      "0 is even\n",
      "2 is even\n",
      "1 is odd\n",
      "3 is odd\n",
      "6 is even\n",
      "3 is odd\n",
      "1 is odd\n",
      "Iteration of loop is over!\n"
     ]
    }
   ],
   "source": [
    "# Print the odds and evens using for loop\n",
    "\n",
    "nums = [1,2,4,6,8,0,2,1,3,6,3,1]\n",
    "\n",
    "for item in nums:\n",
    "    if item % 2 == 0:\n",
    "        print(f\"{item} is even\")\n",
    "    else:\n",
    "        print(f\"{item} is odd\")\n",
    "print(\"Iteration of loop is over!\")"
   ]
  },
  {
   "cell_type": "markdown",
   "id": "1ffad0cf",
   "metadata": {},
   "source": [
    "# Tuple Unpacking using For loop"
   ]
  },
  {
   "cell_type": "markdown",
   "id": "b74e4502",
   "metadata": {},
   "source": [
    "So in tuples we have values like (1,2,3). Suppose we have a list of tuples [(1,2,3),(4,5,6),(7,8,9)]\n",
    "We can seperate the tuple values using loop."
   ]
  },
  {
   "cell_type": "code",
   "execution_count": 2,
   "id": "51b7b96d",
   "metadata": {},
   "outputs": [],
   "source": [
    "tup_list = [(1,2,3),(4,5,6),(7,8,9)]"
   ]
  },
  {
   "cell_type": "code",
   "execution_count": 4,
   "id": "30753d15",
   "metadata": {},
   "outputs": [
    {
     "name": "stdout",
     "output_type": "stream",
     "text": [
      "(1, 2, 3)\n",
      "(4, 5, 6)\n",
      "(7, 8, 9)\n"
     ]
    }
   ],
   "source": [
    "for item in tup_list:\n",
    "    print(item) # this will print the list of tuples"
   ]
  },
  {
   "cell_type": "raw",
   "id": "d7635cdf",
   "metadata": {},
   "source": [
    "If we want to unpack the tuple. We have to do this:"
   ]
  },
  {
   "cell_type": "code",
   "execution_count": 9,
   "id": "a3d15b06",
   "metadata": {},
   "outputs": [
    {
     "name": "stdout",
     "output_type": "stream",
     "text": [
      "1\n",
      "2\n",
      "3\n",
      "4\n",
      "5\n",
      "6\n",
      "7\n",
      "8\n",
      "9\n"
     ]
    }
   ],
   "source": [
    "for a,b,c in tup_list:\n",
    "    print(a)\n",
    "    print(b)\n",
    "    print(c)"
   ]
  },
  {
   "cell_type": "markdown",
   "id": "55b27383",
   "metadata": {},
   "source": [
    "# Unpacking Dictionaries Using For Loop"
   ]
  },
  {
   "cell_type": "code",
   "execution_count": 10,
   "id": "23ee52a8",
   "metadata": {},
   "outputs": [],
   "source": [
    "Rank_Sups = {'Ironman':1,'Black Adam':4,'Superman':2,'Batman':3}"
   ]
  },
  {
   "cell_type": "code",
   "execution_count": 11,
   "id": "5b906bfb",
   "metadata": {},
   "outputs": [
    {
     "name": "stdout",
     "output_type": "stream",
     "text": [
      "Ironman\n",
      "Black Adam\n",
      "Superman\n",
      "Batman\n"
     ]
    }
   ],
   "source": [
    "for sup in Rank_Sups:\n",
    "    print(sup) # This will only print the keys"
   ]
  },
  {
   "cell_type": "code",
   "execution_count": 12,
   "id": "819c6982",
   "metadata": {},
   "outputs": [
    {
     "name": "stdout",
     "output_type": "stream",
     "text": [
      "('Ironman', 1)\n",
      "('Black Adam', 4)\n",
      "('Superman', 2)\n",
      "('Batman', 3)\n"
     ]
    }
   ],
   "source": [
    "for sup in Rank_Sups.items():\n",
    "    print(sup) # This will print the whole key value pair"
   ]
  },
  {
   "cell_type": "raw",
   "id": "5385e451",
   "metadata": {},
   "source": [
    "Now if we want to unpack the keys and values from the dictionary we have to do this"
   ]
  },
  {
   "cell_type": "code",
   "execution_count": 14,
   "id": "5a9d4cde",
   "metadata": {},
   "outputs": [
    {
     "name": "stdout",
     "output_type": "stream",
     "text": [
      "Ironman\n",
      "1\n",
      "Black Adam\n",
      "4\n",
      "Superman\n",
      "2\n",
      "Batman\n",
      "3\n"
     ]
    }
   ],
   "source": [
    "for key,value in Rank_Sups.items():\n",
    "    print(key)\n",
    "    print(value)"
   ]
  },
  {
   "cell_type": "raw",
   "id": "d361ad47",
   "metadata": {},
   "source": [
    "Now If we want to print only the values not the keys, then we have to do this"
   ]
  },
  {
   "cell_type": "code",
   "execution_count": 15,
   "id": "c8272bec",
   "metadata": {},
   "outputs": [
    {
     "name": "stdout",
     "output_type": "stream",
     "text": [
      "1\n",
      "4\n",
      "2\n",
      "3\n"
     ]
    }
   ],
   "source": [
    "for value in Rank_Sups.values():\n",
    "    print(value)"
   ]
  },
  {
   "cell_type": "markdown",
   "id": "28f685e7",
   "metadata": {},
   "source": [
    "# Continue vs Pass"
   ]
  },
  {
   "cell_type": "markdown",
   "id": "4a7e80dc",
   "metadata": {},
   "source": [
    "continue forces the loop to start at the next iteration whereas pass means \n",
    "\"there is no code to execute here\" \n",
    "and will continue through the remainder of the loop body."
   ]
  },
  {
   "cell_type": "code",
   "execution_count": null,
   "id": "7c652198",
   "metadata": {},
   "outputs": [],
   "source": []
  }
 ],
 "metadata": {
  "kernelspec": {
   "display_name": "Python 3",
   "language": "python",
   "name": "python3"
  },
  "language_info": {
   "codemirror_mode": {
    "name": "ipython",
    "version": 3
   },
   "file_extension": ".py",
   "mimetype": "text/x-python",
   "name": "python",
   "nbconvert_exporter": "python",
   "pygments_lexer": "ipython3",
   "version": "3.8.8"
  }
 },
 "nbformat": 4,
 "nbformat_minor": 5
}
