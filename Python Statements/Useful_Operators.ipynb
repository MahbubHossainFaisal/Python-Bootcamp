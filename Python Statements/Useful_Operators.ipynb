{
 "cells": [
  {
   "cell_type": "markdown",
   "id": "457fad74",
   "metadata": {},
   "source": [
    "# Range Function"
   ]
  },
  {
   "cell_type": "raw",
   "id": "913c02d1",
   "metadata": {},
   "source": [
    "Here are some examples of Range function"
   ]
  },
  {
   "cell_type": "code",
   "execution_count": 2,
   "id": "c3ecc7c0",
   "metadata": {},
   "outputs": [
    {
     "name": "stdout",
     "output_type": "stream",
     "text": [
      "1\n",
      "2\n",
      "3\n",
      "4\n",
      "5\n",
      "6\n",
      "7\n",
      "8\n",
      "9\n",
      "10\n"
     ]
    }
   ],
   "source": [
    "for item in range(1,11):\n",
    "    print(item)"
   ]
  },
  {
   "cell_type": "code",
   "execution_count": 3,
   "id": "cc4b39bd",
   "metadata": {},
   "outputs": [
    {
     "name": "stdout",
     "output_type": "stream",
     "text": [
      "1\n",
      "3\n",
      "5\n",
      "7\n",
      "9\n"
     ]
    }
   ],
   "source": [
    "for item in range(1,11,2):\n",
    "    print(item)"
   ]
  },
  {
   "cell_type": "code",
   "execution_count": 8,
   "id": "775934b2",
   "metadata": {},
   "outputs": [
    {
     "name": "stdout",
     "output_type": "stream",
     "text": [
      "2\n",
      "4\n",
      "6\n",
      "8\n",
      "10\n"
     ]
    }
   ],
   "source": [
    "for item in range(2,11,2):\n",
    "    print(item)"
   ]
  },
  {
   "cell_type": "code",
   "execution_count": 7,
   "id": "aee0dd61",
   "metadata": {},
   "outputs": [
    {
     "name": "stdout",
     "output_type": "stream",
     "text": [
      "5\n",
      "10\n",
      "15\n",
      "20\n",
      "25\n",
      "30\n",
      "35\n",
      "40\n",
      "45\n",
      "50\n"
     ]
    }
   ],
   "source": [
    "for item in range(5,51,5):\n",
    "    print(item)"
   ]
  },
  {
   "cell_type": "raw",
   "id": "d949c6b9",
   "metadata": {},
   "source": [
    "We can also convert a range into a list"
   ]
  },
  {
   "cell_type": "code",
   "execution_count": 11,
   "id": "56048b24",
   "metadata": {},
   "outputs": [
    {
     "name": "stdout",
     "output_type": "stream",
     "text": [
      "[6, 12, 18, 24, 30, 36, 42, 48, 54, 60]\n"
     ]
    }
   ],
   "source": [
    "Multi_6 = list(range(6,61,6))\n",
    "print(Multi_6)"
   ]
  },
  {
   "cell_type": "markdown",
   "id": "3ca27fd4",
   "metadata": {},
   "source": [
    "# Enumerate"
   ]
  },
  {
   "cell_type": "markdown",
   "id": "be146e53",
   "metadata": {},
   "source": [
    "What it does is - Suppose when we need the indexes of some value under a for loop rather than creating it manually\n",
    "we can use this enumerate function to create indexes for us"
   ]
  },
  {
   "cell_type": "code",
   "execution_count": 12,
   "id": "4e4bbb7d",
   "metadata": {},
   "outputs": [],
   "source": [
    "sups = ['Ironman','Batman','Spiderman','Aquaman','Flash']"
   ]
  },
  {
   "cell_type": "code",
   "execution_count": 13,
   "id": "99b5a92d",
   "metadata": {},
   "outputs": [
    {
     "name": "stdout",
     "output_type": "stream",
     "text": [
      "(0, 'Ironman')\n",
      "(1, 'Batman')\n",
      "(2, 'Spiderman')\n",
      "(3, 'Aquaman')\n",
      "(4, 'Flash')\n"
     ]
    }
   ],
   "source": [
    "for items in enumerate(sups):\n",
    "    print(items) # it will print as tuples because the enumarate functions convert every values into tuples"
   ]
  },
  {
   "cell_type": "raw",
   "id": "a742c669",
   "metadata": {},
   "source": [
    "By doing this we can get our indexes and values seperately"
   ]
  },
  {
   "cell_type": "code",
   "execution_count": 15,
   "id": "f39251e2",
   "metadata": {},
   "outputs": [
    {
     "name": "stdout",
     "output_type": "stream",
     "text": [
      "0  :  Ironman\n",
      "1  :  Batman\n",
      "2  :  Spiderman\n",
      "3  :  Aquaman\n",
      "4  :  Flash\n"
     ]
    }
   ],
   "source": [
    "for index,item in enumerate(sups):\n",
    "    print(index,' : ',item)"
   ]
  },
  {
   "cell_type": "markdown",
   "id": "9581fa2f",
   "metadata": {},
   "source": [
    "# Zip Function"
   ]
  },
  {
   "cell_type": "markdown",
   "id": "ac266939",
   "metadata": {},
   "source": [
    "What this function does is it different lists values into one tuples using their indexes. Suppose we have a name list, an\n",
    "age list and a city list. Now if we put the lists into zip function. The zip function will create tuples using all the\n",
    "values of index 0, all the values of index 1 ... like this"
   ]
  },
  {
   "cell_type": "code",
   "execution_count": 16,
   "id": "81d9b679",
   "metadata": {},
   "outputs": [],
   "source": [
    "name = ['Faisal','Zahid','Rounok','Rabbi']\n",
    "age = [24,36,41,32]\n",
    "city = ['Narayanganj','Mohakhali','Gulshan','Rayer Bag']"
   ]
  },
  {
   "cell_type": "code",
   "execution_count": 17,
   "id": "f5adaf95",
   "metadata": {},
   "outputs": [
    {
     "name": "stdout",
     "output_type": "stream",
     "text": [
      "<zip object at 0x0000019E306DF440>\n"
     ]
    }
   ],
   "source": [
    "zipped_item = zip(name,age,city)\n",
    "print(zipped_item) # this will only provide the address"
   ]
  },
  {
   "cell_type": "code",
   "execution_count": 24,
   "id": "432534f0",
   "metadata": {},
   "outputs": [
    {
     "name": "stdout",
     "output_type": "stream",
     "text": [
      "('Faisal', 24, 'Narayanganj')\n",
      "('Zahid', 36, 'Mohakhali')\n",
      "('Rounok', 41, 'Gulshan')\n",
      "('Rabbi', 32, 'Rayer Bag')\n"
     ]
    }
   ],
   "source": [
    "for tup in zip(name,age,city):\n",
    "    print(tup)"
   ]
  },
  {
   "cell_type": "code",
   "execution_count": 25,
   "id": "913ae8e8",
   "metadata": {},
   "outputs": [],
   "source": [
    "# Also we can convert that zip function values into lists\n",
    "new_list = list(zip(name,age,city))"
   ]
  },
  {
   "cell_type": "code",
   "execution_count": 26,
   "id": "c5db0785",
   "metadata": {},
   "outputs": [
    {
     "name": "stdout",
     "output_type": "stream",
     "text": [
      "[('Faisal', 24, 'Narayanganj'), ('Zahid', 36, 'Mohakhali'), ('Rounok', 41, 'Gulshan'), ('Rabbi', 32, 'Rayer Bag')]\n"
     ]
    }
   ],
   "source": [
    "print(new_list)"
   ]
  },
  {
   "cell_type": "markdown",
   "id": "62c83e50",
   "metadata": {},
   "source": [
    "# In Operator"
   ]
  },
  {
   "cell_type": "markdown",
   "id": "b7771dc7",
   "metadata": {},
   "source": [
    "It is used for checking some values are there or not in lists,dictionaries etc. It returns boolean"
   ]
  },
  {
   "cell_type": "code",
   "execution_count": 28,
   "id": "1e8a686e",
   "metadata": {},
   "outputs": [
    {
     "data": {
      "text/plain": [
       "True"
      ]
     },
     "execution_count": 28,
     "metadata": {},
     "output_type": "execute_result"
    }
   ],
   "source": [
    "# Suppose we want to check 'Iron man' is in the list of sups or not\n",
    "sups = ['Ironman','Batman','Spiderman','Aquaman','Flash']\n",
    "'Ironman' in sups"
   ]
  },
  {
   "cell_type": "raw",
   "id": "2fd8e360",
   "metadata": {},
   "source": [
    "Similarly we can check for keys in dictionaries using the in operator"
   ]
  },
  {
   "cell_type": "code",
   "execution_count": 29,
   "id": "1df762df",
   "metadata": {},
   "outputs": [],
   "source": [
    "Dict = {'Ironman':1,'Batman': 2}"
   ]
  },
  {
   "cell_type": "code",
   "execution_count": 31,
   "id": "55980293",
   "metadata": {},
   "outputs": [
    {
     "data": {
      "text/plain": [
       "True"
      ]
     },
     "execution_count": 31,
     "metadata": {},
     "output_type": "execute_result"
    }
   ],
   "source": [
    "# to find the keys\n",
    "'Ironman' in Dict"
   ]
  },
  {
   "cell_type": "code",
   "execution_count": 32,
   "id": "a51be7ac",
   "metadata": {},
   "outputs": [
    {
     "data": {
      "text/plain": [
       "False"
      ]
     },
     "execution_count": 32,
     "metadata": {},
     "output_type": "execute_result"
    }
   ],
   "source": [
    "'Aquaman' in Dict"
   ]
  },
  {
   "cell_type": "code",
   "execution_count": 33,
   "id": "24ef5993",
   "metadata": {},
   "outputs": [],
   "source": [
    "# To find the values"
   ]
  },
  {
   "cell_type": "code",
   "execution_count": 34,
   "id": "5054a010",
   "metadata": {},
   "outputs": [
    {
     "data": {
      "text/plain": [
       "True"
      ]
     },
     "execution_count": 34,
     "metadata": {},
     "output_type": "execute_result"
    }
   ],
   "source": [
    "1 in Dict.values()"
   ]
  },
  {
   "cell_type": "code",
   "execution_count": 35,
   "id": "2535487f",
   "metadata": {},
   "outputs": [
    {
     "data": {
      "text/plain": [
       "False"
      ]
     },
     "execution_count": 35,
     "metadata": {},
     "output_type": "execute_result"
    }
   ],
   "source": [
    "3 in Dict.values()"
   ]
  },
  {
   "cell_type": "markdown",
   "id": "6f0fc429",
   "metadata": {},
   "source": [
    "# Min/Max Functions"
   ]
  },
  {
   "cell_type": "code",
   "execution_count": 1,
   "id": "c0ef1a19",
   "metadata": {},
   "outputs": [],
   "source": [
    "numList = [3,3,12,64,2,1,74,2]"
   ]
  },
  {
   "cell_type": "code",
   "execution_count": 2,
   "id": "70563257",
   "metadata": {},
   "outputs": [
    {
     "data": {
      "text/plain": [
       "1"
      ]
     },
     "execution_count": 2,
     "metadata": {},
     "output_type": "execute_result"
    }
   ],
   "source": [
    "min(numList)"
   ]
  },
  {
   "cell_type": "code",
   "execution_count": 3,
   "id": "1611dd3a",
   "metadata": {},
   "outputs": [
    {
     "data": {
      "text/plain": [
       "74"
      ]
     },
     "execution_count": 3,
     "metadata": {},
     "output_type": "execute_result"
    }
   ],
   "source": [
    "max(numList)"
   ]
  },
  {
   "cell_type": "markdown",
   "id": "a752adbd",
   "metadata": {},
   "source": [
    "# Shuffle/Scrambled Function"
   ]
  },
  {
   "cell_type": "code",
   "execution_count": 4,
   "id": "33aba4c5",
   "metadata": {},
   "outputs": [],
   "source": [
    "from random import shuffle"
   ]
  },
  {
   "cell_type": "code",
   "execution_count": 5,
   "id": "15191793",
   "metadata": {},
   "outputs": [],
   "source": [
    "sortedList = [1,2,3,4,5,6,7,8,9]"
   ]
  },
  {
   "cell_type": "code",
   "execution_count": 6,
   "id": "aeb94f13",
   "metadata": {},
   "outputs": [],
   "source": [
    "shuffle(sortedList)  # It doesn't return anything so can't store that into another variable"
   ]
  },
  {
   "cell_type": "code",
   "execution_count": 8,
   "id": "8c9ee1fc",
   "metadata": {},
   "outputs": [
    {
     "data": {
      "text/plain": [
       "[5, 9, 4, 6, 7, 2, 1, 8, 3]"
      ]
     },
     "execution_count": 8,
     "metadata": {},
     "output_type": "execute_result"
    }
   ],
   "source": [
    "sortedList"
   ]
  },
  {
   "cell_type": "markdown",
   "id": "a21da6ce",
   "metadata": {},
   "source": [
    "# Randome Integer Generation Function"
   ]
  },
  {
   "cell_type": "code",
   "execution_count": 11,
   "id": "a0881f53",
   "metadata": {},
   "outputs": [],
   "source": [
    "from random import randint"
   ]
  },
  {
   "cell_type": "code",
   "execution_count": 12,
   "id": "cec26a15",
   "metadata": {},
   "outputs": [
    {
     "data": {
      "text/plain": [
       "7"
      ]
     },
     "execution_count": 12,
     "metadata": {},
     "output_type": "execute_result"
    }
   ],
   "source": [
    "# randint(lower range, upper range)\n",
    "randint(1,9)"
   ]
  },
  {
   "cell_type": "code",
   "execution_count": 13,
   "id": "6a951724",
   "metadata": {},
   "outputs": [],
   "source": [
    "randomNumber = randint(100,2000)"
   ]
  },
  {
   "cell_type": "code",
   "execution_count": 14,
   "id": "9f92a338",
   "metadata": {},
   "outputs": [
    {
     "data": {
      "text/plain": [
       "538"
      ]
     },
     "execution_count": 14,
     "metadata": {},
     "output_type": "execute_result"
    }
   ],
   "source": [
    "randomNumber"
   ]
  },
  {
   "cell_type": "markdown",
   "id": "43e0aa26",
   "metadata": {},
   "source": [
    "# User Input"
   ]
  },
  {
   "cell_type": "code",
   "execution_count": 26,
   "id": "875d1980",
   "metadata": {},
   "outputs": [
    {
     "name": "stdout",
     "output_type": "stream",
     "text": [
      "Please enter a number here 102\n"
     ]
    }
   ],
   "source": [
    "result = input('Please enter a number here ')"
   ]
  },
  {
   "cell_type": "code",
   "execution_count": 27,
   "id": "7d8140c5",
   "metadata": {},
   "outputs": [
    {
     "data": {
      "text/plain": [
       "'102'"
      ]
     },
     "execution_count": 27,
     "metadata": {},
     "output_type": "execute_result"
    }
   ],
   "source": [
    "result"
   ]
  },
  {
   "cell_type": "code",
   "execution_count": 28,
   "id": "8c82106c",
   "metadata": {},
   "outputs": [
    {
     "data": {
      "text/plain": [
       "str"
      ]
     },
     "execution_count": 28,
     "metadata": {},
     "output_type": "execute_result"
    }
   ],
   "source": [
    "type(result) "
   ]
  },
  {
   "cell_type": "raw",
   "id": "218ad76e",
   "metadata": {},
   "source": [
    "Input always takes value as strings. We can recast it our own way later"
   ]
  },
  {
   "cell_type": "code",
   "execution_count": 29,
   "id": "bc47837a",
   "metadata": {},
   "outputs": [],
   "source": [
    "result =int(result)"
   ]
  },
  {
   "cell_type": "code",
   "execution_count": 30,
   "id": "d1cad2a4",
   "metadata": {},
   "outputs": [
    {
     "data": {
      "text/plain": [
       "int"
      ]
     },
     "execution_count": 30,
     "metadata": {},
     "output_type": "execute_result"
    }
   ],
   "source": [
    "type(result)"
   ]
  },
  {
   "cell_type": "code",
   "execution_count": 31,
   "id": "7ddf07de",
   "metadata": {},
   "outputs": [
    {
     "data": {
      "text/plain": [
       "102"
      ]
     },
     "execution_count": 31,
     "metadata": {},
     "output_type": "execute_result"
    }
   ],
   "source": [
    "result"
   ]
  },
  {
   "cell_type": "code",
   "execution_count": null,
   "id": "ae1fabee",
   "metadata": {},
   "outputs": [],
   "source": []
  }
 ],
 "metadata": {
  "kernelspec": {
   "display_name": "Python 3",
   "language": "python",
   "name": "python3"
  },
  "language_info": {
   "codemirror_mode": {
    "name": "ipython",
    "version": 3
   },
   "file_extension": ".py",
   "mimetype": "text/x-python",
   "name": "python",
   "nbconvert_exporter": "python",
   "pygments_lexer": "ipython3",
   "version": "3.8.8"
  }
 },
 "nbformat": 4,
 "nbformat_minor": 5
}
