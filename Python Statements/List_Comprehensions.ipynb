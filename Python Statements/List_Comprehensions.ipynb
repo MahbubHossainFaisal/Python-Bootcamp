{
 "cells": [
  {
   "cell_type": "markdown",
   "id": "409719e6",
   "metadata": {},
   "source": [
    "# List Comprehensions"
   ]
  },
  {
   "cell_type": "raw",
   "id": "e34a2764",
   "metadata": {},
   "source": [
    "Making a list of characters from a string"
   ]
  },
  {
   "cell_type": "code",
   "execution_count": 4,
   "id": "20a13cb3",
   "metadata": {},
   "outputs": [
    {
     "data": {
      "text/plain": [
       "['M', 'A', 'H', 'B', 'U', 'B']"
      ]
     },
     "execution_count": 4,
     "metadata": {},
     "output_type": "execute_result"
    }
   ],
   "source": [
    "sentence = 'MAHBUB'\n",
    "\n",
    "name = [x for x in sentence]\n",
    "# the first x here is putting value in the list and the second x is for to traverse the loop\n",
    "name"
   ]
  },
  {
   "cell_type": "raw",
   "id": "b2976f0f",
   "metadata": {},
   "source": [
    "Getting square numbers for a specific range"
   ]
  },
  {
   "cell_type": "code",
   "execution_count": 6,
   "id": "afe00b7f",
   "metadata": {},
   "outputs": [
    {
     "data": {
      "text/plain": [
       "[1, 4, 9, 16, 25, 36, 49, 64, 81, 100]"
      ]
     },
     "execution_count": 6,
     "metadata": {},
     "output_type": "execute_result"
    }
   ],
   "source": [
    "squares = [num**2 for num in range(1,11)]\n",
    "squares"
   ]
  },
  {
   "cell_type": "raw",
   "id": "07ee499b",
   "metadata": {},
   "source": [
    "Store in a list  even numbers from 1 - 10"
   ]
  },
  {
   "cell_type": "code",
   "execution_count": 8,
   "id": "4484ec77",
   "metadata": {},
   "outputs": [
    {
     "data": {
      "text/plain": [
       "[2, 4, 6, 8]"
      ]
     },
     "execution_count": 8,
     "metadata": {},
     "output_type": "execute_result"
    }
   ],
   "source": [
    "evens = [x for x in range(1,10) if x%2 == 0]\n",
    "evens"
   ]
  },
  {
   "cell_type": "raw",
   "id": "1364503d",
   "metadata": {},
   "source": [
    "Convert a list of celcius tempuratures to farenhite tempurature"
   ]
  },
  {
   "cell_type": "code",
   "execution_count": 10,
   "id": "297fe4a9",
   "metadata": {},
   "outputs": [
    {
     "data": {
      "text/plain": [
       "[50.0, 68.0, 86.0, 104.0, 122.0]"
      ]
     },
     "execution_count": 10,
     "metadata": {},
     "output_type": "execute_result"
    }
   ],
   "source": [
    "celcius = [10,20,30,40,50]\n",
    "\n",
    "farenhite = [((9/5)*temp+32) for temp in celcius]\n",
    "farenhite"
   ]
  },
  {
   "cell_type": "code",
   "execution_count": null,
   "id": "17201d92",
   "metadata": {},
   "outputs": [],
   "source": []
  }
 ],
 "metadata": {
  "kernelspec": {
   "display_name": "Python 3",
   "language": "python",
   "name": "python3"
  },
  "language_info": {
   "codemirror_mode": {
    "name": "ipython",
    "version": 3
   },
   "file_extension": ".py",
   "mimetype": "text/x-python",
   "name": "python",
   "nbconvert_exporter": "python",
   "pygments_lexer": "ipython3",
   "version": "3.8.8"
  }
 },
 "nbformat": 4,
 "nbformat_minor": 5
}
