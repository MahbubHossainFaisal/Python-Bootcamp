{
 "cells": [
  {
   "cell_type": "markdown",
   "id": "5b0cbe7c",
   "metadata": {},
   "source": [
    "# LIST IN PYTHON"
   ]
  },
  {
   "cell_type": "raw",
   "id": "881c61f1",
   "metadata": {},
   "source": [
    "List can hold same types of values or different object types of values at a time"
   ]
  },
  {
   "cell_type": "code",
   "execution_count": 2,
   "id": "b7278789",
   "metadata": {},
   "outputs": [
    {
     "name": "stdout",
     "output_type": "stream",
     "text": [
      "3\n",
      "['Faisal', 22.123, 33]\n"
     ]
    }
   ],
   "source": [
    "my_list = ['Faisal',22.123,33]\n",
    "print(len(my_list))\n",
    "print(my_list)"
   ]
  },
  {
   "cell_type": "markdown",
   "id": "c5025da0",
   "metadata": {},
   "source": [
    "# List can be indexing and slicing same like string"
   ]
  },
  {
   "cell_type": "code",
   "execution_count": 3,
   "id": "05d326f5",
   "metadata": {},
   "outputs": [
    {
     "data": {
      "text/plain": [
       "22.123"
      ]
     },
     "execution_count": 3,
     "metadata": {},
     "output_type": "execute_result"
    }
   ],
   "source": [
    "my_list[1]"
   ]
  },
  {
   "cell_type": "code",
   "execution_count": 5,
   "id": "85cf09ae",
   "metadata": {},
   "outputs": [
    {
     "data": {
      "text/plain": [
       "['Faisal']"
      ]
     },
     "execution_count": 5,
     "metadata": {},
     "output_type": "execute_result"
    }
   ],
   "source": [
    "my_list[:1]"
   ]
  },
  {
   "cell_type": "code",
   "execution_count": 6,
   "id": "f32f8710",
   "metadata": {},
   "outputs": [
    {
     "data": {
      "text/plain": [
       "[22.123, 33]"
      ]
     },
     "execution_count": 6,
     "metadata": {},
     "output_type": "execute_result"
    }
   ],
   "source": [
    "my_list[1:]"
   ]
  },
  {
   "cell_type": "markdown",
   "id": "6abdd247",
   "metadata": {},
   "source": [
    "# Concatenating two lists"
   ]
  },
  {
   "cell_type": "code",
   "execution_count": 10,
   "id": "519951a5",
   "metadata": {},
   "outputs": [
    {
     "name": "stdout",
     "output_type": "stream",
     "text": [
      "[1, 2, 3, 4, 5, 6]\n"
     ]
    }
   ],
   "source": [
    "first = [1,2,3]\n",
    "second = [4,5,6]\n",
    "merged_list = first + second\n",
    "print(merged_list)"
   ]
  },
  {
   "cell_type": "markdown",
   "id": "4b38edd8",
   "metadata": {},
   "source": [
    "# String is immutable but List is mutable"
   ]
  },
  {
   "cell_type": "code",
   "execution_count": 11,
   "id": "47d843a5",
   "metadata": {},
   "outputs": [
    {
     "name": "stdout",
     "output_type": "stream",
     "text": [
      "[9, 2, 3, 4, 5, 6]\n"
     ]
    }
   ],
   "source": [
    "merged_list[0] = 9\n",
    "print(merged_list)"
   ]
  },
  {
   "cell_type": "markdown",
   "id": "5d36774a",
   "metadata": {},
   "source": [
    "# List Methods"
   ]
  },
  {
   "cell_type": "raw",
   "id": "dbfec980",
   "metadata": {},
   "source": [
    "Adding values in end of a list"
   ]
  },
  {
   "cell_type": "code",
   "execution_count": 18,
   "id": "f791d7b6",
   "metadata": {},
   "outputs": [
    {
     "name": "stdout",
     "output_type": "stream",
     "text": [
      "['Mahbub', 'Hossain', 'Faisal']\n"
     ]
    }
   ],
   "source": [
    "list = ['Mahbub','Hossain']\n",
    "list.append('Faisal'); # this method add new values to list from the end\n",
    "print(list)"
   ]
  },
  {
   "cell_type": "raw",
   "id": "dcf13ed3",
   "metadata": {},
   "source": [
    "Removing elements from end in list"
   ]
  },
  {
   "cell_type": "code",
   "execution_count": 19,
   "id": "19d6eaea",
   "metadata": {},
   "outputs": [
    {
     "name": "stdout",
     "output_type": "stream",
     "text": [
      "Faisal\n"
     ]
    }
   ],
   "source": [
    "popped_item = list.pop() # one item will be removed from the end\n",
    "print(popped_item)"
   ]
  },
  {
   "cell_type": "raw",
   "id": "67f2c65f",
   "metadata": {},
   "source": [
    "We can also remove elements using indexes of those element"
   ]
  },
  {
   "cell_type": "code",
   "execution_count": 22,
   "id": "d97da382",
   "metadata": {},
   "outputs": [
    {
     "name": "stdout",
     "output_type": "stream",
     "text": [
      "Popped number is: 6\n",
      "[1, 2, 3, 4, 5, 7, 8, 9]\n"
     ]
    }
   ],
   "source": [
    "numbers = [1,2,3,4,5,6,7,8,9]\n",
    "popped_number = numbers.pop(5)\n",
    "print('Popped number is:',popped_number)\n",
    "print(numbers)"
   ]
  },
  {
   "cell_type": "raw",
   "id": "a4b84610",
   "metadata": {},
   "source": [
    "Sorting a list"
   ]
  },
  {
   "cell_type": "code",
   "execution_count": 25,
   "id": "04953006",
   "metadata": {},
   "outputs": [
    {
     "name": "stdout",
     "output_type": "stream",
     "text": [
      "[1, 2, 3, 4, 5, 12, 23, 53]\n",
      "['a', 'c', 'e', 'x', 'z']\n"
     ]
    }
   ],
   "source": [
    "num = [23,2,12,4,3,5,53,1]\n",
    "num.sort();\n",
    "print(num)\n",
    "\n",
    "alpha = ['x','z','a','e','c']\n",
    "alpha.sort()  # this function doesn't return anything so can't store this into another variable\n",
    "print(alpha)"
   ]
  },
  {
   "cell_type": "raw",
   "id": "14eee0fb",
   "metadata": {},
   "source": [
    "Sorting a list in reverse"
   ]
  },
  {
   "cell_type": "code",
   "execution_count": 24,
   "id": "2e7c8cca",
   "metadata": {},
   "outputs": [
    {
     "name": "stdout",
     "output_type": "stream",
     "text": [
      "[8, 7, 6, 5, 4, 3, 2, 1]\n"
     ]
    }
   ],
   "source": [
    "revNum = [1,2,3,4,5,6,7,8]\n",
    "revNum.reverse() # this function doesn't return anything so can't store this into another variable\n",
    "print(revNum)"
   ]
  },
  {
   "cell_type": "code",
   "execution_count": null,
   "id": "0aafbaac",
   "metadata": {},
   "outputs": [],
   "source": []
  }
 ],
 "metadata": {
  "kernelspec": {
   "display_name": "Python 3",
   "language": "python",
   "name": "python3"
  },
  "language_info": {
   "codemirror_mode": {
    "name": "ipython",
    "version": 3
   },
   "file_extension": ".py",
   "mimetype": "text/x-python",
   "name": "python",
   "nbconvert_exporter": "python",
   "pygments_lexer": "ipython3",
   "version": "3.8.8"
  }
 },
 "nbformat": 4,
 "nbformat_minor": 5
}
