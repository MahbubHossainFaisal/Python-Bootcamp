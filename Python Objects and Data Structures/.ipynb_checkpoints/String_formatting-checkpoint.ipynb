{
 "cells": [
  {
   "cell_type": "markdown",
   "id": "5a4f39e4",
   "metadata": {},
   "source": [
    "#  Dot Formatting {} or {number sequence} or {symbol}"
   ]
  },
  {
   "cell_type": "raw",
   "id": "b5ed77d8",
   "metadata": {},
   "source": [
    "Some formatting methods Examples in string"
   ]
  },
  {
   "cell_type": "code",
   "execution_count": 3,
   "id": "c7e01be8",
   "metadata": {},
   "outputs": [
    {
     "name": "stdout",
     "output_type": "stream",
     "text": [
      "Hello world How are you?\n"
     ]
    }
   ],
   "source": [
    "print('Hello world {}'.format('How are you?'))"
   ]
  },
  {
   "cell_type": "code",
   "execution_count": 4,
   "id": "af088d56",
   "metadata": {},
   "outputs": [
    {
     "name": "stdout",
     "output_type": "stream",
     "text": [
      "Tom Dick Harry\n"
     ]
    }
   ],
   "source": [
    "print('{} {} {}'.format('Tom','Dick','Harry'))"
   ]
  },
  {
   "cell_type": "code",
   "execution_count": 5,
   "id": "15a160d5",
   "metadata": {},
   "outputs": [
    {
     "name": "stdout",
     "output_type": "stream",
     "text": [
      "He is a famous Footballer whose name is Christiano Ronaldo\n"
     ]
    }
   ],
   "source": [
    "print('He is a famous {} whose name is {}'.format('Footballer','Christiano Ronaldo'))"
   ]
  },
  {
   "cell_type": "raw",
   "id": "ac86afe0",
   "metadata": {},
   "source": [
    " We also can set the orders {} in these braces. An example is given below\n",
    " The sentence is -\n",
    " \"the cow is red and black in color\""
   ]
  },
  {
   "cell_type": "code",
   "execution_count": 11,
   "id": "7d1de314",
   "metadata": {},
   "outputs": [
    {
     "name": "stdout",
     "output_type": "stream",
     "text": [
      "The cow is color and red in black\n"
     ]
    }
   ],
   "source": [
    "print('The cow is {} and {} in {}'.format('color','red','black'))"
   ]
  },
  {
   "cell_type": "code",
   "execution_count": 12,
   "id": "a7028005",
   "metadata": {},
   "outputs": [
    {
     "name": "stdout",
     "output_type": "stream",
     "text": [
      "The cow is red and black in color\n"
     ]
    }
   ],
   "source": [
    "# We can change the order by providing sequence number\n",
    "print('The cow is {1} and {2} in {0}'.format('color','red','black'))"
   ]
  },
  {
   "cell_type": "code",
   "execution_count": 13,
   "id": "643712a0",
   "metadata": {},
   "outputs": [
    {
     "name": "stdout",
     "output_type": "stream",
     "text": [
      "The cow is red and black in color\n"
     ]
    }
   ],
   "source": [
    "# Another technique to change the sequence\n",
    "print('The cow is {r} and {b} in {c}'.format(c='color',r='red',b='black'))"
   ]
  },
  {
   "cell_type": "markdown",
   "id": "9c7dc8be",
   "metadata": {},
   "source": [
    "# Float Formating {Value:width.precision}"
   ]
  },
  {
   "cell_type": "code",
   "execution_count": 21,
   "id": "49201b28",
   "metadata": {},
   "outputs": [
    {
     "name": "stdout",
     "output_type": "stream",
     "text": [
      "Result:  1.2987012987012987\n"
     ]
    }
   ],
   "source": [
    "# Example\n",
    "result = 100/77\n",
    "print(\"Result: \",result)"
   ]
  },
  {
   "cell_type": "code",
   "execution_count": 32,
   "id": "c357f743",
   "metadata": {},
   "outputs": [
    {
     "name": "stdout",
     "output_type": "stream",
     "text": [
      "Result1.299\n"
     ]
    }
   ],
   "source": [
    "# Now I want to keep only 3 decimal place from result\n",
    "\n",
    "print('Result {r:1.3f}'.format(r=result)) # here r is referencing to result, 1 is for width and .3 is for 3 decimal place"
   ]
  },
  {
   "cell_type": "code",
   "execution_count": null,
   "id": "64df34b3",
   "metadata": {},
   "outputs": [],
   "source": []
  },
  {
   "cell_type": "markdown",
   "id": "17af2950",
   "metadata": {},
   "source": [
    "#  Fstring / String literal (Works exactly like format but new and easy syntax)"
   ]
  },
  {
   "cell_type": "code",
   "execution_count": 35,
   "id": "1748f84e",
   "metadata": {},
   "outputs": [
    {
     "name": "stdout",
     "output_type": "stream",
     "text": [
      "Hello, My name is Mahbub Hossain Faisal\n"
     ]
    }
   ],
   "source": [
    "first = 'Mahbub'\n",
    "middle = 'Hossain'\n",
    "last = 'Faisal'\n",
    "\n",
    "print(f'Hello, My name is {first} {middle} {last}')"
   ]
  },
  {
   "cell_type": "code",
   "execution_count": 38,
   "id": "a33dd877",
   "metadata": {},
   "outputs": [
    {
     "name": "stdout",
     "output_type": "stream",
     "text": [
      "10.123\n"
     ]
    }
   ],
   "source": [
    "fnum = 10.12323498\n",
    "print(f'{fnum:1.3f}')"
   ]
  },
  {
   "cell_type": "code",
   "execution_count": null,
   "id": "9adc861f",
   "metadata": {},
   "outputs": [],
   "source": []
  }
 ],
 "metadata": {
  "kernelspec": {
   "display_name": "Python 3",
   "language": "python",
   "name": "python3"
  },
  "language_info": {
   "codemirror_mode": {
    "name": "ipython",
    "version": 3
   },
   "file_extension": ".py",
   "mimetype": "text/x-python",
   "name": "python",
   "nbconvert_exporter": "python",
   "pygments_lexer": "ipython3",
   "version": "3.8.8"
  }
 },
 "nbformat": 4,
 "nbformat_minor": 5
}
