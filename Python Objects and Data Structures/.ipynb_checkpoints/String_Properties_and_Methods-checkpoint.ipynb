{
 "cells": [
  {
   "cell_type": "code",
   "execution_count": 24,
   "id": "6b031ff9",
   "metadata": {},
   "outputs": [],
   "source": [
    "# Strings are immutable (not mutable)\n",
    "# Means You can't directly change an index of a string"
   ]
  },
  {
   "cell_type": "code",
   "execution_count": 25,
   "id": "2d72ee92",
   "metadata": {},
   "outputs": [],
   "source": [
    "name = \"Sam Wilson\""
   ]
  },
  {
   "cell_type": "code",
   "execution_count": 26,
   "id": "08e1de4b",
   "metadata": {},
   "outputs": [],
   "source": [
    "# Suppose you want that name as Pam Wilson\n",
    "# You can't do name[0] = 'P'\n",
    "# You can just take the portion 'am Wilson' and concate with 'P' like below"
   ]
  },
  {
   "cell_type": "code",
   "execution_count": 27,
   "id": "4f3a8122",
   "metadata": {},
   "outputs": [],
   "source": [
    "last_letters = name[1:]"
   ]
  },
  {
   "cell_type": "code",
   "execution_count": 28,
   "id": "4bf74a04",
   "metadata": {},
   "outputs": [
    {
     "name": "stdout",
     "output_type": "stream",
     "text": [
      "Pam Wilson\n"
     ]
    }
   ],
   "source": [
    "print('P'+last_letters) #So we can concatenate two strings by + operator"
   ]
  },
  {
   "cell_type": "code",
   "execution_count": 29,
   "id": "a6b6b42d",
   "metadata": {},
   "outputs": [],
   "source": [
    "#Interesting example of string"
   ]
  },
  {
   "cell_type": "code",
   "execution_count": 30,
   "id": "88272e6e",
   "metadata": {},
   "outputs": [
    {
     "name": "stdout",
     "output_type": "stream",
     "text": [
      "zzzzzzzzzz\n"
     ]
    }
   ],
   "source": [
    "# Suppose you have a string 'z' and you want this as 10 z's\n",
    "\n",
    "print('z'*10)"
   ]
  },
  {
   "cell_type": "code",
   "execution_count": 31,
   "id": "f4bf34a9",
   "metadata": {
    "scrolled": true
   },
   "outputs": [
    {
     "data": {
      "text/plain": [
       "'23'"
      ]
     },
     "execution_count": 31,
     "metadata": {},
     "output_type": "execute_result"
    }
   ],
   "source": [
    "'2' + '3'"
   ]
  },
  {
   "cell_type": "code",
   "execution_count": 32,
   "id": "a5d73dc0",
   "metadata": {},
   "outputs": [],
   "source": [
    "# Some string methods"
   ]
  },
  {
   "cell_type": "code",
   "execution_count": 33,
   "id": "4e423d2d",
   "metadata": {},
   "outputs": [],
   "source": [
    "x = 'Hello World'"
   ]
  },
  {
   "cell_type": "code",
   "execution_count": 34,
   "id": "6308c929",
   "metadata": {},
   "outputs": [],
   "source": [
    "# type x. and hit tab you will see the method suggestions"
   ]
  },
  {
   "cell_type": "code",
   "execution_count": 35,
   "id": "47603bae",
   "metadata": {},
   "outputs": [
    {
     "data": {
      "text/plain": [
       "'HELLO WORLD'"
      ]
     },
     "execution_count": 35,
     "metadata": {},
     "output_type": "execute_result"
    }
   ],
   "source": [
    "x.upper()"
   ]
  },
  {
   "cell_type": "code",
   "execution_count": 36,
   "id": "98fcec01",
   "metadata": {},
   "outputs": [
    {
     "data": {
      "text/plain": [
       "'hello world'"
      ]
     },
     "execution_count": 36,
     "metadata": {},
     "output_type": "execute_result"
    }
   ],
   "source": [
    "x.lower()"
   ]
  },
  {
   "cell_type": "code",
   "execution_count": 37,
   "id": "6895dd0b",
   "metadata": {},
   "outputs": [
    {
     "name": "stdout",
     "output_type": "stream",
     "text": [
      "['Mahbub', 'Hossain', 'Faisal']\n"
     ]
    }
   ],
   "source": [
    "fullName = 'Mahbub Hossain Faisal'\n",
    "print(fullName.split()) # So what split does is, it creates a list by splitting the string"
   ]
  },
  {
   "cell_type": "code",
   "execution_count": 38,
   "id": "16b0262a",
   "metadata": {},
   "outputs": [
    {
     "name": "stdout",
     "output_type": "stream",
     "text": [
      "['Monwar', 'Hossain', 'Babul']\n"
     ]
    }
   ],
   "source": [
    "dashedName = 'Monwar_Hossain_Babul'\n",
    "print(dashedName.split('_'))"
   ]
  },
  {
   "cell_type": "code",
   "execution_count": 39,
   "id": "5e909fbd",
   "metadata": {},
   "outputs": [
    {
     "name": "stdout",
     "output_type": "stream",
     "text": [
      "['Monw', 'r_Hoss', 'in_B', 'bul']\n"
     ]
    }
   ],
   "source": [
    "print(dashedName.split('a'))"
   ]
  },
  {
   "cell_type": "code",
   "execution_count": null,
   "id": "38eac1c2",
   "metadata": {},
   "outputs": [],
   "source": []
  }
 ],
 "metadata": {
  "kernelspec": {
   "display_name": "Python 3",
   "language": "python",
   "name": "python3"
  },
  "language_info": {
   "codemirror_mode": {
    "name": "ipython",
    "version": 3
   },
   "file_extension": ".py",
   "mimetype": "text/x-python",
   "name": "python",
   "nbconvert_exporter": "python",
   "pygments_lexer": "ipython3",
   "version": "3.8.8"
  }
 },
 "nbformat": 4,
 "nbformat_minor": 5
}
