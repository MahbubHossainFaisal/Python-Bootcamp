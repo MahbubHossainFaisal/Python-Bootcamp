{
 "cells": [
  {
   "cell_type": "code",
   "execution_count": 7,
   "id": "4b4a28db",
   "metadata": {},
   "outputs": [
    {
     "name": "stdout",
     "output_type": "stream",
     "text": [
      "14\n"
     ]
    }
   ],
   "source": [
    "#Length of a stirng\n",
    "myString = \"Monwar Hossain\"\n",
    "print(len(myString));"
   ]
  },
  {
   "cell_type": "code",
   "execution_count": 9,
   "id": "218eef91",
   "metadata": {},
   "outputs": [],
   "source": [
    "#Indexing"
   ]
  },
  {
   "cell_type": "code",
   "execution_count": 10,
   "id": "4ec016ef",
   "metadata": {},
   "outputs": [
    {
     "name": "stdout",
     "output_type": "stream",
     "text": [
      "o\n",
      "n\n"
     ]
    }
   ],
   "source": [
    "#In python both positive indexing and negative indexing is there.\n",
    "#Positive indexing to traverse left to right and negative for the vise versa\n",
    "# a slight differnece is first index starts from 0 but in case of reverse last index starts from -1\n",
    "\n",
    "\n",
    "print(myString[1]); \n",
    "print(myString[-1]); "
   ]
  },
  {
   "cell_type": "code",
   "execution_count": 11,
   "id": "ed8cb106",
   "metadata": {},
   "outputs": [],
   "source": [
    "#Slicing"
   ]
  },
  {
   "cell_type": "code",
   "execution_count": 12,
   "id": "c96a4fe5",
   "metadata": {},
   "outputs": [
    {
     "name": "stdout",
     "output_type": "stream",
     "text": [
      "Monwar\n"
     ]
    }
   ],
   "source": [
    "#If we want to get the first name from the string we can using slicing method of python like this below\n",
    "\n",
    "print(myString[:6]); # means from index 0 to next 6 characters"
   ]
  },
  {
   "cell_type": "code",
   "execution_count": 13,
   "id": "84477530",
   "metadata": {},
   "outputs": [
    {
     "name": "stdout",
     "output_type": "stream",
     "text": [
      "Hossain\n"
     ]
    }
   ],
   "source": [
    "#If we want to get the last name from the string we can using slicing method of python like this below\n",
    "\n",
    "print(myString[7:]); # means from index 7 to last character"
   ]
  },
  {
   "cell_type": "code",
   "execution_count": 20,
   "id": "3c4c35d9",
   "metadata": {},
   "outputs": [
    {
     "name": "stdout",
     "output_type": "stream",
     "text": [
      "Hossain \n"
     ]
    }
   ],
   "source": [
    "#If we want to get the middle name from the string we can using slicing method of python like this below\n",
    "\n",
    "fullname = \"Mahbub Hossain Faisal\"\n",
    "print(fullname[7:14]); #means from index 7 to next 7 characters (14-7) or from index 7 go upto 14 (excluding 14)\n"
   ]
  },
  {
   "cell_type": "code",
   "execution_count": 22,
   "id": "7c8acb1b",
   "metadata": {},
   "outputs": [
    {
     "name": "stdout",
     "output_type": "stream",
     "text": [
      "Mhu osi asl\n"
     ]
    }
   ],
   "source": [
    "\"\"\"\n",
    "Now suppose in the name Mahbub Hossain Faisal we want to print it like this -> Mhu osi asl means there will be a gap of\n",
    "1 character after each index \n",
    "\"\"\"\n",
    "print(fullname[::2]); # Means from first index to last index with a step size 2"
   ]
  },
  {
   "cell_type": "code",
   "execution_count": 24,
   "id": "86150b47",
   "metadata": {},
   "outputs": [
    {
     "name": "stdout",
     "output_type": "stream",
     "text": [
      "lasiaF niassoH bubhaM\n"
     ]
    }
   ],
   "source": [
    "# An easy trick to reverse a string\n",
    "\n",
    "print(fullname[::-1])"
   ]
  },
  {
   "cell_type": "code",
   "execution_count": 25,
   "id": "3fc7eb82",
   "metadata": {},
   "outputs": [
    {
     "name": "stdout",
     "output_type": "stream",
     "text": [
      "ink\n"
     ]
    }
   ],
   "source": [
    "print('tinker'[1:4])"
   ]
  },
  {
   "cell_type": "code",
   "execution_count": null,
   "id": "ca995432",
   "metadata": {},
   "outputs": [],
   "source": []
  }
 ],
 "metadata": {
  "kernelspec": {
   "display_name": "Python 3",
   "language": "python",
   "name": "python3"
  },
  "language_info": {
   "codemirror_mode": {
    "name": "ipython",
    "version": 3
   },
   "file_extension": ".py",
   "mimetype": "text/x-python",
   "name": "python",
   "nbconvert_exporter": "python",
   "pygments_lexer": "ipython3",
   "version": "3.8.8"
  }
 },
 "nbformat": 4,
 "nbformat_minor": 5
}
