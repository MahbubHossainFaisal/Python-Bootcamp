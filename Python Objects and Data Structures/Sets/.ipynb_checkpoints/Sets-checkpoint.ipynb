{
 "cells": [
  {
   "cell_type": "markdown",
   "id": "9a0cedbe",
   "metadata": {},
   "source": [
    "# SETS"
   ]
  },
  {
   "cell_type": "raw",
   "id": "8283a5da",
   "metadata": {},
   "source": [
    "SET is an unordered collection of unique elements/objects"
   ]
  },
  {
   "cell_type": "raw",
   "id": "6f49dff4",
   "metadata": {},
   "source": [
    "We also declare sets using ()"
   ]
  },
  {
   "cell_type": "raw",
   "id": "6f3f6ff3",
   "metadata": {},
   "source": [
    "Difference between sets and dictionaries are sets only contain unique values, where dictionaries contain key value pairs"
   ]
  },
  {
   "cell_type": "raw",
   "id": "6e3e18a8",
   "metadata": {},
   "source": [
    "Difference between sets and lists are lists can contain same values multiple times, which sets cannot contain"
   ]
  },
  {
   "cell_type": "raw",
   "id": "a8f82f90",
   "metadata": {},
   "source": [
    "Difference between sets and tuples are same like difference between sets and lists"
   ]
  },
  {
   "cell_type": "markdown",
   "id": "5f6b7b88",
   "metadata": {},
   "source": [
    "# SET EXAMPLES"
   ]
  },
  {
   "cell_type": "code",
   "execution_count": 10,
   "id": "c8747c21",
   "metadata": {},
   "outputs": [],
   "source": [
    "mySet = set()"
   ]
  },
  {
   "cell_type": "code",
   "execution_count": 11,
   "id": "2ea87beb",
   "metadata": {},
   "outputs": [],
   "source": [
    "mySet.add(1)"
   ]
  },
  {
   "cell_type": "code",
   "execution_count": 12,
   "id": "ec9279f7",
   "metadata": {},
   "outputs": [],
   "source": [
    "mySet.add(3)"
   ]
  },
  {
   "cell_type": "code",
   "execution_count": 13,
   "id": "a13ad242",
   "metadata": {},
   "outputs": [
    {
     "data": {
      "text/plain": [
       "{1, 3}"
      ]
     },
     "execution_count": 13,
     "metadata": {},
     "output_type": "execute_result"
    }
   ],
   "source": [
    "mySet"
   ]
  },
  {
   "cell_type": "raw",
   "id": "7f6837e2",
   "metadata": {},
   "source": [
    "In the notebook give mySet. and then press TAB button to explore the methods that sets have"
   ]
  },
  {
   "cell_type": "markdown",
   "id": "3aa5ef9c",
   "metadata": {},
   "source": [
    "# We can find unique elements from a list using sets."
   ]
  },
  {
   "cell_type": "code",
   "execution_count": 20,
   "id": "b06845b7",
   "metadata": {},
   "outputs": [],
   "source": [
    "list = [4,6,2,1,2,8,81,'Faisal',1,2,3,1,2,4,2,4,3,1,4,2,5,2]"
   ]
  },
  {
   "cell_type": "code",
   "execution_count": 21,
   "id": "2ae153b9",
   "metadata": {},
   "outputs": [],
   "source": [
    "uniqueEle = set(list)"
   ]
  },
  {
   "cell_type": "code",
   "execution_count": 22,
   "id": "4bd85064",
   "metadata": {},
   "outputs": [
    {
     "name": "stdout",
     "output_type": "stream",
     "text": [
      "{1, 2, 3, 4, 5, 6, 8, 81, 'Faisal'}\n"
     ]
    }
   ],
   "source": [
    "print(uniqueEle)"
   ]
  },
  {
   "cell_type": "raw",
   "id": "c8546eb1",
   "metadata": {},
   "source": [
    "Though here the after doing sets we are getting a sorted order like but actually sets are unordered for large elements"
   ]
  },
  {
   "cell_type": "code",
   "execution_count": null,
   "id": "0895af86",
   "metadata": {},
   "outputs": [],
   "source": []
  }
 ],
 "metadata": {
  "kernelspec": {
   "display_name": "Python 3",
   "language": "python",
   "name": "python3"
  },
  "language_info": {
   "codemirror_mode": {
    "name": "ipython",
    "version": 3
   },
   "file_extension": ".py",
   "mimetype": "text/x-python",
   "name": "python",
   "nbconvert_exporter": "python",
   "pygments_lexer": "ipython3",
   "version": "3.8.8"
  }
 },
 "nbformat": 4,
 "nbformat_minor": 5
}
