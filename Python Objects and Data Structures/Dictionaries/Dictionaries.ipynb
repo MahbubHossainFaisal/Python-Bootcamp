{
 "cells": [
  {
   "cell_type": "markdown",
   "id": "a4be9bef",
   "metadata": {},
   "source": [
    "#  PYTHON DICTIONARIES"
   ]
  },
  {
   "cell_type": "raw",
   "id": "4c605e69",
   "metadata": {},
   "source": [
    "1) Python dictionaries are same like unordered_map in c++.\n",
    "2) They are unordered and can't be sorted\n",
    "3) Dictionaries can hold different types of objects at the same time.\n",
    "4) Dictionaries are also mutable. Their value can be changed."
   ]
  },
  {
   "cell_type": "markdown",
   "id": "1139ec12",
   "metadata": {},
   "source": [
    "# List vs Dictionary"
   ]
  },
  {
   "cell_type": "raw",
   "id": "4a4b7280",
   "metadata": {},
   "source": [
    "1) List can be sorted but dictionaries can't be sorted\n",
    "2) List can be indexed or sliced , dictionaries can't be indexed or sliced"
   ]
  },
  {
   "cell_type": "markdown",
   "id": "ad1a3031",
   "metadata": {},
   "source": [
    "# Dictionaries Example"
   ]
  },
  {
   "cell_type": "code",
   "execution_count": 1,
   "id": "5cc07971",
   "metadata": {},
   "outputs": [],
   "source": [
    "fruit_price = {'Mango':100,'Apple':30,'Orange':50,'Guava':40}"
   ]
  },
  {
   "cell_type": "code",
   "execution_count": 2,
   "id": "20d98e4b",
   "metadata": {},
   "outputs": [
    {
     "data": {
      "text/plain": [
       "30"
      ]
     },
     "execution_count": 2,
     "metadata": {},
     "output_type": "execute_result"
    }
   ],
   "source": [
    "fruit_price['Apple']"
   ]
  },
  {
   "cell_type": "raw",
   "id": "e8750d88",
   "metadata": {},
   "source": [
    "Dictionaries can hold lists in it"
   ]
  },
  {
   "cell_type": "code",
   "execution_count": 5,
   "id": "99f15e56",
   "metadata": {},
   "outputs": [
    {
     "name": "stdout",
     "output_type": "stream",
     "text": [
      "['0196612312', '0151239423']\n"
     ]
    }
   ],
   "source": [
    "information = {'name':'Mahbub Hossain Faisal','phone':['0196612312','0151239423'],'workplace':'IQVIA','Age':24}\n",
    "print(information['phone'])"
   ]
  },
  {
   "cell_type": "raw",
   "id": "cdae8763",
   "metadata": {},
   "source": [
    "Nested Dictionaries"
   ]
  },
  {
   "cell_type": "code",
   "execution_count": 17,
   "id": "815a7204",
   "metadata": {},
   "outputs": [],
   "source": [
    "info = {'fruits':{1:'Mango',2:'Orange',3:'Jack fruit'},'price':[100,40,50]}"
   ]
  },
  {
   "cell_type": "code",
   "execution_count": 19,
   "id": "c4991ca1",
   "metadata": {},
   "outputs": [
    {
     "data": {
      "text/plain": [
       "'Mango'"
      ]
     },
     "execution_count": 19,
     "metadata": {},
     "output_type": "execute_result"
    }
   ],
   "source": [
    "info['fruits'][1]"
   ]
  },
  {
   "cell_type": "code",
   "execution_count": 31,
   "id": "ffa2a6c8",
   "metadata": {},
   "outputs": [],
   "source": [
    "mango_variations = {'fruits':{1:{'Mango_1':'Fazli Mango','Mango_2':'Lengra Mango'},2:'Oranges',3:'Apple'},'price':[30,40,50]}"
   ]
  },
  {
   "cell_type": "code",
   "execution_count": 32,
   "id": "c20ac02a",
   "metadata": {},
   "outputs": [
    {
     "data": {
      "text/plain": [
       "'Lengra Mango'"
      ]
     },
     "execution_count": 32,
     "metadata": {},
     "output_type": "execute_result"
    }
   ],
   "source": [
    "mango_variations['fruits'][1]['Mango_2'] # getting the nested values"
   ]
  },
  {
   "cell_type": "code",
   "execution_count": 37,
   "id": "d4e3e301",
   "metadata": {},
   "outputs": [
    {
     "name": "stdout",
     "output_type": "stream",
     "text": [
      "50\n"
     ]
    }
   ],
   "source": [
    "print(mango_variations['price'][2]);"
   ]
  },
  {
   "cell_type": "raw",
   "id": "b6482c41",
   "metadata": {},
   "source": [
    "To only see the keys of a dictionary"
   ]
  },
  {
   "cell_type": "code",
   "execution_count": 38,
   "id": "47f157ad",
   "metadata": {},
   "outputs": [
    {
     "data": {
      "text/plain": [
       "dict_keys(['fruits', 'price'])"
      ]
     },
     "execution_count": 38,
     "metadata": {},
     "output_type": "execute_result"
    }
   ],
   "source": [
    "mango_variations.keys()"
   ]
  },
  {
   "cell_type": "raw",
   "id": "5ee0bb2e",
   "metadata": {},
   "source": [
    "To only see the values of a dictionary"
   ]
  },
  {
   "cell_type": "code",
   "execution_count": 40,
   "id": "d8b63e99",
   "metadata": {},
   "outputs": [
    {
     "data": {
      "text/plain": [
       "dict_values([{1: {'Mango_1': 'Fazli Mango', 'Mango_2': 'Lengra Mango'}, 2: 'Oranges', 3: 'Apple'}, [30, 40, 50]])"
      ]
     },
     "execution_count": 40,
     "metadata": {},
     "output_type": "execute_result"
    }
   ],
   "source": [
    "mango_variations.values()"
   ]
  },
  {
   "cell_type": "raw",
   "id": "94abd3c6",
   "metadata": {},
   "source": [
    "To see the key and value together"
   ]
  },
  {
   "cell_type": "code",
   "execution_count": 41,
   "id": "89d4be09",
   "metadata": {},
   "outputs": [
    {
     "data": {
      "text/plain": [
       "dict_items([('name', 'Mahbub Hossain Faisal'), ('phone', ['0196612312', '0151239423']), ('workplace', 'IQVIA'), ('Age', 24)])"
      ]
     },
     "execution_count": 41,
     "metadata": {},
     "output_type": "execute_result"
    }
   ],
   "source": [
    "information.items()"
   ]
  },
  {
   "cell_type": "code",
   "execution_count": null,
   "id": "0395d0ef",
   "metadata": {},
   "outputs": [],
   "source": []
  }
 ],
 "metadata": {
  "kernelspec": {
   "display_name": "Python 3",
   "language": "python",
   "name": "python3"
  },
  "language_info": {
   "codemirror_mode": {
    "name": "ipython",
    "version": 3
   },
   "file_extension": ".py",
   "mimetype": "text/x-python",
   "name": "python",
   "nbconvert_exporter": "python",
   "pygments_lexer": "ipython3",
   "version": "3.8.8"
  }
 },
 "nbformat": 4,
 "nbformat_minor": 5
}
