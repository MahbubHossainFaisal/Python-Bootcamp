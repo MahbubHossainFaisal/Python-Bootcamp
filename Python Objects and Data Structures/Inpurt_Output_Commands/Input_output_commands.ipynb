{
 "cells": [
  {
   "cell_type": "markdown",
   "id": "71f3d4ba",
   "metadata": {},
   "source": [
    "# INPUT OUTPUT FILE METHODS"
   ]
  },
  {
   "cell_type": "raw",
   "id": "cf16a484",
   "metadata": {},
   "source": [
    "Wrtting a text file"
   ]
  },
  {
   "cell_type": "code",
   "execution_count": 2,
   "id": "3f412c54",
   "metadata": {},
   "outputs": [
    {
     "name": "stdout",
     "output_type": "stream",
     "text": [
      "Writing myFile.txt\n"
     ]
    }
   ],
   "source": [
    "%%writefile myFile.txt\n",
    "Hello, My name is Mahbub\n",
    "I am from Narayanganj\n",
    "I am a business intelligence developer"
   ]
  },
  {
   "cell_type": "raw",
   "id": "c768a2bf",
   "metadata": {},
   "source": [
    "Check a File is created or not"
   ]
  },
  {
   "cell_type": "code",
   "execution_count": 4,
   "id": "43982ecb",
   "metadata": {},
   "outputs": [],
   "source": [
    "myFile = open('myFile.txt') #If it gives error means the file has not created or you are misspelling something"
   ]
  },
  {
   "cell_type": "raw",
   "id": "4c3c687b",
   "metadata": {},
   "source": [
    "To get the location where this file I am coding on currently located"
   ]
  },
  {
   "cell_type": "code",
   "execution_count": 6,
   "id": "95996e3d",
   "metadata": {},
   "outputs": [
    {
     "data": {
      "text/plain": [
       "'C:\\\\Users\\\\U1119910\\\\Documents\\\\Python Bootcamp\\\\Python Objects and Data Structures\\\\Inpurt_Output_Commands'"
      ]
     },
     "execution_count": 6,
     "metadata": {},
     "output_type": "execute_result"
    }
   ],
   "source": [
    "pwd"
   ]
  },
  {
   "cell_type": "code",
   "execution_count": 7,
   "id": "30f26fa7",
   "metadata": {},
   "outputs": [],
   "source": [
    "myFile = open('myFile.txt') #This will copy the myFile text to myFile variable"
   ]
  },
  {
   "cell_type": "code",
   "execution_count": 8,
   "id": "ed98c132",
   "metadata": {},
   "outputs": [
    {
     "data": {
      "text/plain": [
       "'Hello, My name is Mahbub\\nI am from Narayanganj\\nI am a business intelligence developer\\n'"
      ]
     },
     "execution_count": 8,
     "metadata": {},
     "output_type": "execute_result"
    }
   ],
   "source": [
    "myFile.read() # By this method we can see what is written in the text file"
   ]
  },
  {
   "cell_type": "raw",
   "id": "32d62856",
   "metadata": {},
   "source": [
    "Now If we want to read the file again we can't use myFile.read() again because it will give '' value because the file has\n",
    "already been read. To read it again we have to use the seek method first then use read method"
   ]
  },
  {
   "cell_type": "code",
   "execution_count": 11,
   "id": "836c980c",
   "metadata": {},
   "outputs": [
    {
     "data": {
      "text/plain": [
       "''"
      ]
     },
     "execution_count": 11,
     "metadata": {},
     "output_type": "execute_result"
    }
   ],
   "source": [
    "myFile.read()"
   ]
  },
  {
   "cell_type": "code",
   "execution_count": 12,
   "id": "99b82e74",
   "metadata": {},
   "outputs": [
    {
     "data": {
      "text/plain": [
       "0"
      ]
     },
     "execution_count": 12,
     "metadata": {},
     "output_type": "execute_result"
    }
   ],
   "source": [
    "myFile.seek(0) # by doing this we are making the variable to point to the first letter of the file again"
   ]
  },
  {
   "cell_type": "code",
   "execution_count": 13,
   "id": "5e9d381c",
   "metadata": {},
   "outputs": [
    {
     "data": {
      "text/plain": [
       "'Hello, My name is Mahbub\\nI am from Narayanganj\\nI am a business intelligence developer\\n'"
      ]
     },
     "execution_count": 13,
     "metadata": {},
     "output_type": "execute_result"
    }
   ],
   "source": [
    "myFile.read()"
   ]
  },
  {
   "cell_type": "raw",
   "id": "9a3db11a",
   "metadata": {},
   "source": [
    "We can also get the files as list of strings or we can also read single lines."
   ]
  },
  {
   "cell_type": "code",
   "execution_count": 14,
   "id": "0ec8e644",
   "metadata": {},
   "outputs": [
    {
     "data": {
      "text/plain": [
       "0"
      ]
     },
     "execution_count": 14,
     "metadata": {},
     "output_type": "execute_result"
    }
   ],
   "source": [
    "myFile.seek(0)"
   ]
  },
  {
   "cell_type": "code",
   "execution_count": 16,
   "id": "d38ab3c7",
   "metadata": {},
   "outputs": [
    {
     "data": {
      "text/plain": [
       "'Hello, My name is Mahbub\\n'"
      ]
     },
     "execution_count": 16,
     "metadata": {},
     "output_type": "execute_result"
    }
   ],
   "source": [
    "myFile.readline() # This will read only the first line"
   ]
  },
  {
   "cell_type": "code",
   "execution_count": 17,
   "id": "dedde803",
   "metadata": {},
   "outputs": [
    {
     "data": {
      "text/plain": [
       "'I am from Narayanganj\\n'"
      ]
     },
     "execution_count": 17,
     "metadata": {},
     "output_type": "execute_result"
    }
   ],
   "source": [
    "myFile.readline() "
   ]
  },
  {
   "cell_type": "code",
   "execution_count": 18,
   "id": "7881bc54",
   "metadata": {},
   "outputs": [
    {
     "data": {
      "text/plain": [
       "'I am a business intelligence developer\\n'"
      ]
     },
     "execution_count": 18,
     "metadata": {},
     "output_type": "execute_result"
    }
   ],
   "source": [
    "myFile.readline()"
   ]
  },
  {
   "cell_type": "code",
   "execution_count": 20,
   "id": "23afd6ce",
   "metadata": {},
   "outputs": [
    {
     "data": {
      "text/plain": [
       "0"
      ]
     },
     "execution_count": 20,
     "metadata": {},
     "output_type": "execute_result"
    }
   ],
   "source": [
    "myFile.seek(0)"
   ]
  },
  {
   "cell_type": "code",
   "execution_count": 21,
   "id": "6a0ae95c",
   "metadata": {},
   "outputs": [
    {
     "data": {
      "text/plain": [
       "['Hello, My name is Mahbub\\n',\n",
       " 'I am from Narayanganj\\n',\n",
       " 'I am a business intelligence developer\\n']"
      ]
     },
     "execution_count": 21,
     "metadata": {},
     "output_type": "execute_result"
    }
   ],
   "source": [
    "myFile.readlines() # this will create a list of strings from the whole text"
   ]
  },
  {
   "cell_type": "raw",
   "id": "d10c02a4",
   "metadata": {},
   "source": [
    "If we want to open any other text file which is not in the current directory we have to copy that path in which the text \n",
    "file belong then we have to do the same procedure to open it Ex. - file = open('Path_location_of_the_file')\n",
    "Then we can read , write or modify the file.\n",
    "But we have to remember that, after using the file we have to close that to by file.close()\n",
    "else we won't be able to delete that file manually"
   ]
  },
  {
   "cell_type": "markdown",
   "id": "6f5fdb91",
   "metadata": {},
   "source": [
    "# Different Modes"
   ]
  },
  {
   "cell_type": "raw",
   "id": "18e8bbd1",
   "metadata": {},
   "source": [
    "There are different modes in writting files (Reading, writting, appending,both reading and writting)"
   ]
  },
  {
   "cell_type": "raw",
   "id": "0cea080d",
   "metadata": {},
   "source": [
    "mode('r') is readonly"
   ]
  },
  {
   "cell_type": "raw",
   "id": "33c64609",
   "metadata": {},
   "source": [
    "mode('w') is write only (Will overwrite file or create new)"
   ]
  },
  {
   "cell_type": "raw",
   "id": "79e42aca",
   "metadata": {},
   "source": [
    "mode('a') is append only (Will only add to files)"
   ]
  },
  {
   "cell_type": "raw",
   "id": "6f695f5d",
   "metadata": {},
   "source": [
    "mode('r+') is reading and writing"
   ]
  },
  {
   "cell_type": "raw",
   "id": "44bdfa82",
   "metadata": {},
   "source": [
    "mode('w+') is writing and reading (Will overwrite files or create new)"
   ]
  },
  {
   "cell_type": "raw",
   "id": "f932c11a",
   "metadata": {},
   "source": [
    "Here is an example of append"
   ]
  },
  {
   "cell_type": "code",
   "execution_count": 17,
   "id": "4a7cb42f",
   "metadata": {},
   "outputs": [],
   "source": [
    "newMode = open('myFile.txt','a')"
   ]
  },
  {
   "cell_type": "code",
   "execution_count": 18,
   "id": "be4bdb5a",
   "metadata": {},
   "outputs": [
    {
     "data": {
      "text/plain": [
       "33"
      ]
     },
     "execution_count": 18,
     "metadata": {},
     "output_type": "execute_result"
    }
   ],
   "source": [
    "newMode.write('I have completed my BSc from AIUB')"
   ]
  },
  {
   "cell_type": "code",
   "execution_count": 19,
   "id": "7669c5b4",
   "metadata": {},
   "outputs": [],
   "source": [
    "newMode = open('myFile.txt','r')"
   ]
  },
  {
   "cell_type": "code",
   "execution_count": 20,
   "id": "d1314a2c",
   "metadata": {},
   "outputs": [
    {
     "data": {
      "text/plain": [
       "0"
      ]
     },
     "execution_count": 20,
     "metadata": {},
     "output_type": "execute_result"
    }
   ],
   "source": [
    "newMode.seek(0)"
   ]
  },
  {
   "cell_type": "code",
   "execution_count": 21,
   "id": "a76aa9d3",
   "metadata": {},
   "outputs": [
    {
     "data": {
      "text/plain": [
       "'Hello, My name is Mahbub\\nI am from Narayanganj\\nI am a business intelligence developer\\n\\n I have completed my BSc from AIUBI have completed my BSc from AIUB'"
      ]
     },
     "execution_count": 21,
     "metadata": {},
     "output_type": "execute_result"
    }
   ],
   "source": [
    "newMode.read()"
   ]
  },
  {
   "cell_type": "code",
   "execution_count": 22,
   "id": "4ecf928a",
   "metadata": {},
   "outputs": [],
   "source": [
    "newMode.close()"
   ]
  },
  {
   "cell_type": "code",
   "execution_count": null,
   "id": "cd7c6b0a",
   "metadata": {},
   "outputs": [],
   "source": []
  },
  {
   "cell_type": "code",
   "execution_count": null,
   "id": "0ef40dbd",
   "metadata": {},
   "outputs": [],
   "source": []
  }
 ],
 "metadata": {
  "kernelspec": {
   "display_name": "Python 3",
   "language": "python",
   "name": "python3"
  },
  "language_info": {
   "codemirror_mode": {
    "name": "ipython",
    "version": 3
   },
   "file_extension": ".py",
   "mimetype": "text/x-python",
   "name": "python",
   "nbconvert_exporter": "python",
   "pygments_lexer": "ipython3",
   "version": "3.8.8"
  }
 },
 "nbformat": 4,
 "nbformat_minor": 5
}
