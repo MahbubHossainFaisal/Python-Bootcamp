{
 "cells": [
  {
   "cell_type": "markdown",
   "id": "e1b9728d",
   "metadata": {},
   "source": [
    "# TUPLES"
   ]
  },
  {
   "cell_type": "raw",
   "id": "7105e583",
   "metadata": {},
   "source": [
    "1) Tuples are same as list with just one key difference that tuples are immutable. Their value can't be changed after inserting\n",
    "2) Tuples have only two methods (count,index)\n",
    "3) Tuples are declared with () where list are declared with []"
   ]
  },
  {
   "cell_type": "markdown",
   "id": "273a5e9e",
   "metadata": {},
   "source": [
    "# Examples"
   ]
  },
  {
   "cell_type": "code",
   "execution_count": 6,
   "id": "61b51deb",
   "metadata": {},
   "outputs": [
    {
     "data": {
      "text/plain": [
       "('Cricket', 'Soccer', 'Badminton', 1, 2, 3)"
      ]
     },
     "execution_count": 6,
     "metadata": {},
     "output_type": "execute_result"
    }
   ],
   "source": [
    "sportInfo = ('Cricket','Soccer','Badminton',1,2,3)\n",
    "sportInfo"
   ]
  },
  {
   "cell_type": "code",
   "execution_count": 8,
   "id": "1c5bcd2f",
   "metadata": {},
   "outputs": [
    {
     "data": {
      "text/plain": [
       "'Soccer'"
      ]
     },
     "execution_count": 8,
     "metadata": {},
     "output_type": "execute_result"
    }
   ],
   "source": [
    "sportInfo[1]"
   ]
  },
  {
   "cell_type": "code",
   "execution_count": 10,
   "id": "f870fe24",
   "metadata": {},
   "outputs": [
    {
     "data": {
      "text/plain": [
       "3"
      ]
     },
     "execution_count": 10,
     "metadata": {},
     "output_type": "execute_result"
    }
   ],
   "source": [
    "sportInfo[-1]"
   ]
  },
  {
   "cell_type": "code",
   "execution_count": 11,
   "id": "b86d43a1",
   "metadata": {},
   "outputs": [
    {
     "data": {
      "text/plain": [
       "('Badminton', 1, 2, 3)"
      ]
     },
     "execution_count": 11,
     "metadata": {},
     "output_type": "execute_result"
    }
   ],
   "source": [
    "sportInfo[2:]"
   ]
  },
  {
   "cell_type": "code",
   "execution_count": 12,
   "id": "1d7cd882",
   "metadata": {},
   "outputs": [
    {
     "data": {
      "text/plain": [
       "('Cricket', 'Soccer')"
      ]
     },
     "execution_count": 12,
     "metadata": {},
     "output_type": "execute_result"
    }
   ],
   "source": [
    "sportInfo[:2]"
   ]
  },
  {
   "cell_type": "code",
   "execution_count": 13,
   "id": "33cd9a88",
   "metadata": {},
   "outputs": [
    {
     "data": {
      "text/plain": [
       "tuple"
      ]
     },
     "execution_count": 13,
     "metadata": {},
     "output_type": "execute_result"
    }
   ],
   "source": [
    "type(sportInfo)"
   ]
  },
  {
   "cell_type": "code",
   "execution_count": 14,
   "id": "91f94751",
   "metadata": {},
   "outputs": [
    {
     "data": {
      "text/plain": [
       "6"
      ]
     },
     "execution_count": 14,
     "metadata": {},
     "output_type": "execute_result"
    }
   ],
   "source": [
    "len(sportInfo)"
   ]
  },
  {
   "cell_type": "code",
   "execution_count": 19,
   "id": "4b8c7655",
   "metadata": {},
   "outputs": [],
   "source": [
    "letters = ('a','b','c','c','a','b','c')"
   ]
  },
  {
   "cell_type": "code",
   "execution_count": 20,
   "id": "37d60f26",
   "metadata": {},
   "outputs": [
    {
     "data": {
      "text/plain": [
       "3"
      ]
     },
     "execution_count": 20,
     "metadata": {},
     "output_type": "execute_result"
    }
   ],
   "source": [
    "letters.count('c')"
   ]
  },
  {
   "cell_type": "code",
   "execution_count": 21,
   "id": "b5663539",
   "metadata": {},
   "outputs": [
    {
     "data": {
      "text/plain": [
       "2"
      ]
     },
     "execution_count": 21,
     "metadata": {},
     "output_type": "execute_result"
    }
   ],
   "source": [
    "letters.index('c') # will show the first occuring index"
   ]
  },
  {
   "cell_type": "code",
   "execution_count": null,
   "id": "201c8a55",
   "metadata": {},
   "outputs": [],
   "source": []
  }
 ],
 "metadata": {
  "kernelspec": {
   "display_name": "Python 3",
   "language": "python",
   "name": "python3"
  },
  "language_info": {
   "codemirror_mode": {
    "name": "ipython",
    "version": 3
   },
   "file_extension": ".py",
   "mimetype": "text/x-python",
   "name": "python",
   "nbconvert_exporter": "python",
   "pygments_lexer": "ipython3",
   "version": "3.8.8"
  }
 },
 "nbformat": 4,
 "nbformat_minor": 5
}
